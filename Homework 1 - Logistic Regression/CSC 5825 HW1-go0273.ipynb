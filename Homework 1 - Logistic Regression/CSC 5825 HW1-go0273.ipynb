{
 "cells": [
  {
   "cell_type": "markdown",
   "id": "83616a96",
   "metadata": {},
   "source": [
    "## 00. Introduction\n",
    "\n",
    "In this project we will use Logistic Regression from scratch to deal with a classification task. For this classification problem the heart failure prediction dataset is used, which contains 11 common features (e.g., age, sex, and several medical predictor variables) and 918 observations. We will build a Logistic regression model that can be used to predict whether the patient has heart disease (1) or not (0). "
   ]
  },
  {
   "cell_type": "markdown",
   "id": "9e15bc16",
   "metadata": {},
   "source": [
    "## 01. Import Libraries "
   ]
  },
  {
   "cell_type": "code",
   "execution_count": 1,
   "id": "8584c127",
   "metadata": {},
   "outputs": [],
   "source": [
    "import numpy as np\n",
    "import pandas as pd\n",
    "import matplotlib.pyplot as plt\n",
    "import warnings\n",
    "warnings.filterwarnings('ignore')"
   ]
  },
  {
   "cell_type": "markdown",
   "id": "a81b7011",
   "metadata": {},
   "source": [
    "## 02. Load & Check Data"
   ]
  },
  {
   "cell_type": "code",
   "execution_count": 2,
   "id": "13b257d1",
   "metadata": {},
   "outputs": [],
   "source": [
    "df = pd.read_csv(\"heart.csv\")"
   ]
  },
  {
   "cell_type": "code",
   "execution_count": 3,
   "id": "20cd2c59",
   "metadata": {
    "scrolled": true
   },
   "outputs": [
    {
     "name": "stdout",
     "output_type": "stream",
     "text": [
      "<class 'pandas.core.frame.DataFrame'>\n",
      "RangeIndex: 918 entries, 0 to 917\n",
      "Data columns (total 12 columns):\n",
      " #   Column          Non-Null Count  Dtype  \n",
      "---  ------          --------------  -----  \n",
      " 0   Age             918 non-null    int64  \n",
      " 1   Sex             918 non-null    object \n",
      " 2   ChestPainType   918 non-null    object \n",
      " 3   RestingBP       918 non-null    int64  \n",
      " 4   Cholesterol     918 non-null    int64  \n",
      " 5   FastingBS       918 non-null    int64  \n",
      " 6   RestingECG      918 non-null    object \n",
      " 7   MaxHR           918 non-null    int64  \n",
      " 8   ExerciseAngina  918 non-null    object \n",
      " 9   Oldpeak         918 non-null    float64\n",
      " 10  ST_Slope        918 non-null    object \n",
      " 11  HeartDisease    918 non-null    int64  \n",
      "dtypes: float64(1), int64(6), object(5)\n",
      "memory usage: 86.2+ KB\n"
     ]
    }
   ],
   "source": [
    "# we have 918 rows \n",
    "# 11 Attributes (6 Numeric and 5 Categorical), and target column (HeartDisease)\n",
    "\n",
    "df.info()"
   ]
  },
  {
   "cell_type": "code",
   "execution_count": 4,
   "id": "2ab43d50",
   "metadata": {},
   "outputs": [
    {
     "data": {
      "text/plain": [
       "1    508\n",
       "0    410\n",
       "Name: HeartDisease, dtype: int64"
      ]
     },
     "execution_count": 4,
     "metadata": {},
     "output_type": "execute_result"
    }
   ],
   "source": [
    "df[\"HeartDisease\"].value_counts() # 508 has heart disease and 410 do not"
   ]
  },
  {
   "cell_type": "code",
   "execution_count": 5,
   "id": "83eb047e",
   "metadata": {},
   "outputs": [
    {
     "data": {
      "text/html": [
       "<div>\n",
       "<style scoped>\n",
       "    .dataframe tbody tr th:only-of-type {\n",
       "        vertical-align: middle;\n",
       "    }\n",
       "\n",
       "    .dataframe tbody tr th {\n",
       "        vertical-align: top;\n",
       "    }\n",
       "\n",
       "    .dataframe thead th {\n",
       "        text-align: right;\n",
       "    }\n",
       "</style>\n",
       "<table border=\"1\" class=\"dataframe\">\n",
       "  <thead>\n",
       "    <tr style=\"text-align: right;\">\n",
       "      <th></th>\n",
       "      <th>Age</th>\n",
       "      <th>RestingBP</th>\n",
       "      <th>Cholesterol</th>\n",
       "      <th>FastingBS</th>\n",
       "      <th>MaxHR</th>\n",
       "      <th>Oldpeak</th>\n",
       "      <th>HeartDisease</th>\n",
       "    </tr>\n",
       "  </thead>\n",
       "  <tbody>\n",
       "    <tr>\n",
       "      <th>count</th>\n",
       "      <td>918.000000</td>\n",
       "      <td>918.000000</td>\n",
       "      <td>918.000000</td>\n",
       "      <td>918.000000</td>\n",
       "      <td>918.000000</td>\n",
       "      <td>918.000000</td>\n",
       "      <td>918.000000</td>\n",
       "    </tr>\n",
       "    <tr>\n",
       "      <th>mean</th>\n",
       "      <td>53.510893</td>\n",
       "      <td>132.396514</td>\n",
       "      <td>198.799564</td>\n",
       "      <td>0.233115</td>\n",
       "      <td>136.809368</td>\n",
       "      <td>0.887364</td>\n",
       "      <td>0.553377</td>\n",
       "    </tr>\n",
       "    <tr>\n",
       "      <th>std</th>\n",
       "      <td>9.432617</td>\n",
       "      <td>18.514154</td>\n",
       "      <td>109.384145</td>\n",
       "      <td>0.423046</td>\n",
       "      <td>25.460334</td>\n",
       "      <td>1.066570</td>\n",
       "      <td>0.497414</td>\n",
       "    </tr>\n",
       "    <tr>\n",
       "      <th>min</th>\n",
       "      <td>28.000000</td>\n",
       "      <td>0.000000</td>\n",
       "      <td>0.000000</td>\n",
       "      <td>0.000000</td>\n",
       "      <td>60.000000</td>\n",
       "      <td>-2.600000</td>\n",
       "      <td>0.000000</td>\n",
       "    </tr>\n",
       "    <tr>\n",
       "      <th>25%</th>\n",
       "      <td>47.000000</td>\n",
       "      <td>120.000000</td>\n",
       "      <td>173.250000</td>\n",
       "      <td>0.000000</td>\n",
       "      <td>120.000000</td>\n",
       "      <td>0.000000</td>\n",
       "      <td>0.000000</td>\n",
       "    </tr>\n",
       "    <tr>\n",
       "      <th>50%</th>\n",
       "      <td>54.000000</td>\n",
       "      <td>130.000000</td>\n",
       "      <td>223.000000</td>\n",
       "      <td>0.000000</td>\n",
       "      <td>138.000000</td>\n",
       "      <td>0.600000</td>\n",
       "      <td>1.000000</td>\n",
       "    </tr>\n",
       "    <tr>\n",
       "      <th>75%</th>\n",
       "      <td>60.000000</td>\n",
       "      <td>140.000000</td>\n",
       "      <td>267.000000</td>\n",
       "      <td>0.000000</td>\n",
       "      <td>156.000000</td>\n",
       "      <td>1.500000</td>\n",
       "      <td>1.000000</td>\n",
       "    </tr>\n",
       "    <tr>\n",
       "      <th>max</th>\n",
       "      <td>77.000000</td>\n",
       "      <td>200.000000</td>\n",
       "      <td>603.000000</td>\n",
       "      <td>1.000000</td>\n",
       "      <td>202.000000</td>\n",
       "      <td>6.200000</td>\n",
       "      <td>1.000000</td>\n",
       "    </tr>\n",
       "  </tbody>\n",
       "</table>\n",
       "</div>"
      ],
      "text/plain": [
       "              Age   RestingBP  Cholesterol   FastingBS       MaxHR  \\\n",
       "count  918.000000  918.000000   918.000000  918.000000  918.000000   \n",
       "mean    53.510893  132.396514   198.799564    0.233115  136.809368   \n",
       "std      9.432617   18.514154   109.384145    0.423046   25.460334   \n",
       "min     28.000000    0.000000     0.000000    0.000000   60.000000   \n",
       "25%     47.000000  120.000000   173.250000    0.000000  120.000000   \n",
       "50%     54.000000  130.000000   223.000000    0.000000  138.000000   \n",
       "75%     60.000000  140.000000   267.000000    0.000000  156.000000   \n",
       "max     77.000000  200.000000   603.000000    1.000000  202.000000   \n",
       "\n",
       "          Oldpeak  HeartDisease  \n",
       "count  918.000000    918.000000  \n",
       "mean     0.887364      0.553377  \n",
       "std      1.066570      0.497414  \n",
       "min     -2.600000      0.000000  \n",
       "25%      0.000000      0.000000  \n",
       "50%      0.600000      1.000000  \n",
       "75%      1.500000      1.000000  \n",
       "max      6.200000      1.000000  "
      ]
     },
     "execution_count": 5,
     "metadata": {},
     "output_type": "execute_result"
    }
   ],
   "source": [
    "df.describe() # doesn't include the categorical values"
   ]
  },
  {
   "cell_type": "code",
   "execution_count": 6,
   "id": "1bf026c7",
   "metadata": {},
   "outputs": [
    {
     "data": {
      "text/plain": [
       "Age               0\n",
       "Sex               0\n",
       "ChestPainType     0\n",
       "RestingBP         0\n",
       "Cholesterol       0\n",
       "FastingBS         0\n",
       "RestingECG        0\n",
       "MaxHR             0\n",
       "ExerciseAngina    0\n",
       "Oldpeak           0\n",
       "ST_Slope          0\n",
       "HeartDisease      0\n",
       "dtype: int64"
      ]
     },
     "execution_count": 6,
     "metadata": {},
     "output_type": "execute_result"
    }
   ],
   "source": [
    "#no null/empty or duplicated value\n",
    "\n",
    "#df.isna().sum()\n",
    "#df.duplicated().sum()\n",
    "df.isnull().sum()"
   ]
  },
  {
   "cell_type": "markdown",
   "id": "eebb8b9c",
   "metadata": {},
   "source": [
    "## 03. Data Pre-processing & Feature Engineering "
   ]
  },
  {
   "cell_type": "markdown",
   "id": "f03b0b74",
   "metadata": {},
   "source": [
    "The categorical features (i.e., Sex, ExerciseAngina, ChestPainType, RestingECG, STSlope) need to be converted into dummy/indicator or one-hot encoding variables."
   ]
  },
  {
   "cell_type": "markdown",
   "id": "ff0f1ae1",
   "metadata": {},
   "source": [
    "### 03.a. One-hot encoding "
   ]
  },
  {
   "cell_type": "code",
   "execution_count": 7,
   "id": "4f49983c",
   "metadata": {},
   "outputs": [],
   "source": [
    "dummie_sex = pd.get_dummies(df.Sex)\n",
    "dummie_EA = pd.get_dummies(df.ExerciseAngina)\n",
    "dummie_CP = pd.get_dummies(df.ChestPainType)\n",
    "dummie_RECG = pd.get_dummies(df.RestingECG)\n",
    "dummie_STS = pd.get_dummies(df.ST_Slope)"
   ]
  },
  {
   "cell_type": "code",
   "execution_count": 8,
   "id": "de4c2a40",
   "metadata": {},
   "outputs": [
    {
     "data": {
      "text/html": [
       "<div>\n",
       "<style scoped>\n",
       "    .dataframe tbody tr th:only-of-type {\n",
       "        vertical-align: middle;\n",
       "    }\n",
       "\n",
       "    .dataframe tbody tr th {\n",
       "        vertical-align: top;\n",
       "    }\n",
       "\n",
       "    .dataframe thead th {\n",
       "        text-align: right;\n",
       "    }\n",
       "</style>\n",
       "<table border=\"1\" class=\"dataframe\">\n",
       "  <thead>\n",
       "    <tr style=\"text-align: right;\">\n",
       "      <th></th>\n",
       "      <th>Age</th>\n",
       "      <th>Sex</th>\n",
       "      <th>ChestPainType</th>\n",
       "      <th>RestingBP</th>\n",
       "      <th>Cholesterol</th>\n",
       "      <th>FastingBS</th>\n",
       "      <th>RestingECG</th>\n",
       "      <th>MaxHR</th>\n",
       "      <th>ExerciseAngina</th>\n",
       "      <th>Oldpeak</th>\n",
       "      <th>ST_Slope</th>\n",
       "      <th>HeartDisease</th>\n",
       "      <th>F</th>\n",
       "      <th>M</th>\n",
       "      <th>N</th>\n",
       "      <th>Y</th>\n",
       "      <th>ASY</th>\n",
       "      <th>ATA</th>\n",
       "      <th>NAP</th>\n",
       "      <th>TA</th>\n",
       "      <th>LVH</th>\n",
       "      <th>Normal</th>\n",
       "      <th>ST</th>\n",
       "      <th>Down</th>\n",
       "      <th>Flat</th>\n",
       "      <th>Up</th>\n",
       "    </tr>\n",
       "  </thead>\n",
       "  <tbody>\n",
       "    <tr>\n",
       "      <th>0</th>\n",
       "      <td>40</td>\n",
       "      <td>M</td>\n",
       "      <td>ATA</td>\n",
       "      <td>140</td>\n",
       "      <td>289</td>\n",
       "      <td>0</td>\n",
       "      <td>Normal</td>\n",
       "      <td>172</td>\n",
       "      <td>N</td>\n",
       "      <td>0.0</td>\n",
       "      <td>Up</td>\n",
       "      <td>0</td>\n",
       "      <td>0</td>\n",
       "      <td>1</td>\n",
       "      <td>1</td>\n",
       "      <td>0</td>\n",
       "      <td>0</td>\n",
       "      <td>1</td>\n",
       "      <td>0</td>\n",
       "      <td>0</td>\n",
       "      <td>0</td>\n",
       "      <td>1</td>\n",
       "      <td>0</td>\n",
       "      <td>0</td>\n",
       "      <td>0</td>\n",
       "      <td>1</td>\n",
       "    </tr>\n",
       "    <tr>\n",
       "      <th>1</th>\n",
       "      <td>49</td>\n",
       "      <td>F</td>\n",
       "      <td>NAP</td>\n",
       "      <td>160</td>\n",
       "      <td>180</td>\n",
       "      <td>0</td>\n",
       "      <td>Normal</td>\n",
       "      <td>156</td>\n",
       "      <td>N</td>\n",
       "      <td>1.0</td>\n",
       "      <td>Flat</td>\n",
       "      <td>1</td>\n",
       "      <td>1</td>\n",
       "      <td>0</td>\n",
       "      <td>1</td>\n",
       "      <td>0</td>\n",
       "      <td>0</td>\n",
       "      <td>0</td>\n",
       "      <td>1</td>\n",
       "      <td>0</td>\n",
       "      <td>0</td>\n",
       "      <td>1</td>\n",
       "      <td>0</td>\n",
       "      <td>0</td>\n",
       "      <td>1</td>\n",
       "      <td>0</td>\n",
       "    </tr>\n",
       "    <tr>\n",
       "      <th>2</th>\n",
       "      <td>37</td>\n",
       "      <td>M</td>\n",
       "      <td>ATA</td>\n",
       "      <td>130</td>\n",
       "      <td>283</td>\n",
       "      <td>0</td>\n",
       "      <td>ST</td>\n",
       "      <td>98</td>\n",
       "      <td>N</td>\n",
       "      <td>0.0</td>\n",
       "      <td>Up</td>\n",
       "      <td>0</td>\n",
       "      <td>0</td>\n",
       "      <td>1</td>\n",
       "      <td>1</td>\n",
       "      <td>0</td>\n",
       "      <td>0</td>\n",
       "      <td>1</td>\n",
       "      <td>0</td>\n",
       "      <td>0</td>\n",
       "      <td>0</td>\n",
       "      <td>0</td>\n",
       "      <td>1</td>\n",
       "      <td>0</td>\n",
       "      <td>0</td>\n",
       "      <td>1</td>\n",
       "    </tr>\n",
       "    <tr>\n",
       "      <th>3</th>\n",
       "      <td>48</td>\n",
       "      <td>F</td>\n",
       "      <td>ASY</td>\n",
       "      <td>138</td>\n",
       "      <td>214</td>\n",
       "      <td>0</td>\n",
       "      <td>Normal</td>\n",
       "      <td>108</td>\n",
       "      <td>Y</td>\n",
       "      <td>1.5</td>\n",
       "      <td>Flat</td>\n",
       "      <td>1</td>\n",
       "      <td>1</td>\n",
       "      <td>0</td>\n",
       "      <td>0</td>\n",
       "      <td>1</td>\n",
       "      <td>1</td>\n",
       "      <td>0</td>\n",
       "      <td>0</td>\n",
       "      <td>0</td>\n",
       "      <td>0</td>\n",
       "      <td>1</td>\n",
       "      <td>0</td>\n",
       "      <td>0</td>\n",
       "      <td>1</td>\n",
       "      <td>0</td>\n",
       "    </tr>\n",
       "    <tr>\n",
       "      <th>4</th>\n",
       "      <td>54</td>\n",
       "      <td>M</td>\n",
       "      <td>NAP</td>\n",
       "      <td>150</td>\n",
       "      <td>195</td>\n",
       "      <td>0</td>\n",
       "      <td>Normal</td>\n",
       "      <td>122</td>\n",
       "      <td>N</td>\n",
       "      <td>0.0</td>\n",
       "      <td>Up</td>\n",
       "      <td>0</td>\n",
       "      <td>0</td>\n",
       "      <td>1</td>\n",
       "      <td>1</td>\n",
       "      <td>0</td>\n",
       "      <td>0</td>\n",
       "      <td>0</td>\n",
       "      <td>1</td>\n",
       "      <td>0</td>\n",
       "      <td>0</td>\n",
       "      <td>1</td>\n",
       "      <td>0</td>\n",
       "      <td>0</td>\n",
       "      <td>0</td>\n",
       "      <td>1</td>\n",
       "    </tr>\n",
       "  </tbody>\n",
       "</table>\n",
       "</div>"
      ],
      "text/plain": [
       "   Age Sex ChestPainType  RestingBP  Cholesterol  FastingBS RestingECG  MaxHR  \\\n",
       "0   40   M           ATA        140          289          0     Normal    172   \n",
       "1   49   F           NAP        160          180          0     Normal    156   \n",
       "2   37   M           ATA        130          283          0         ST     98   \n",
       "3   48   F           ASY        138          214          0     Normal    108   \n",
       "4   54   M           NAP        150          195          0     Normal    122   \n",
       "\n",
       "  ExerciseAngina  Oldpeak ST_Slope  HeartDisease  F  M  N  Y  ASY  ATA  NAP  \\\n",
       "0              N      0.0       Up             0  0  1  1  0    0    1    0   \n",
       "1              N      1.0     Flat             1  1  0  1  0    0    0    1   \n",
       "2              N      0.0       Up             0  0  1  1  0    0    1    0   \n",
       "3              Y      1.5     Flat             1  1  0  0  1    1    0    0   \n",
       "4              N      0.0       Up             0  0  1  1  0    0    0    1   \n",
       "\n",
       "   TA  LVH  Normal  ST  Down  Flat  Up  \n",
       "0   0    0       1   0     0     0   1  \n",
       "1   0    0       1   0     0     1   0  \n",
       "2   0    0       0   1     0     0   1  \n",
       "3   0    0       1   0     0     1   0  \n",
       "4   0    0       1   0     0     0   1  "
      ]
     },
     "execution_count": 8,
     "metadata": {},
     "output_type": "execute_result"
    }
   ],
   "source": [
    "#Merging dummy variables\n",
    "merged_df = pd.concat([df,dummie_sex,dummie_EA,dummie_CP,dummie_RECG,dummie_STS],axis=1)\n",
    "pd.set_option('display.max_columns', None)\n",
    "merged_df.head()"
   ]
  },
  {
   "cell_type": "code",
   "execution_count": 9,
   "id": "f261f92f",
   "metadata": {},
   "outputs": [
    {
     "data": {
      "text/html": [
       "<div>\n",
       "<style scoped>\n",
       "    .dataframe tbody tr th:only-of-type {\n",
       "        vertical-align: middle;\n",
       "    }\n",
       "\n",
       "    .dataframe tbody tr th {\n",
       "        vertical-align: top;\n",
       "    }\n",
       "\n",
       "    .dataframe thead th {\n",
       "        text-align: right;\n",
       "    }\n",
       "</style>\n",
       "<table border=\"1\" class=\"dataframe\">\n",
       "  <thead>\n",
       "    <tr style=\"text-align: right;\">\n",
       "      <th></th>\n",
       "      <th>Age</th>\n",
       "      <th>RestingBP</th>\n",
       "      <th>Cholesterol</th>\n",
       "      <th>FastingBS</th>\n",
       "      <th>MaxHR</th>\n",
       "      <th>Oldpeak</th>\n",
       "      <th>HeartDisease</th>\n",
       "      <th>F</th>\n",
       "      <th>M</th>\n",
       "      <th>N</th>\n",
       "      <th>Y</th>\n",
       "      <th>ASY</th>\n",
       "      <th>ATA</th>\n",
       "      <th>NAP</th>\n",
       "      <th>TA</th>\n",
       "      <th>LVH</th>\n",
       "      <th>Normal</th>\n",
       "      <th>ST</th>\n",
       "      <th>Down</th>\n",
       "      <th>Flat</th>\n",
       "      <th>Up</th>\n",
       "    </tr>\n",
       "  </thead>\n",
       "  <tbody>\n",
       "    <tr>\n",
       "      <th>0</th>\n",
       "      <td>40</td>\n",
       "      <td>140</td>\n",
       "      <td>289</td>\n",
       "      <td>0</td>\n",
       "      <td>172</td>\n",
       "      <td>0.0</td>\n",
       "      <td>0</td>\n",
       "      <td>0</td>\n",
       "      <td>1</td>\n",
       "      <td>1</td>\n",
       "      <td>0</td>\n",
       "      <td>0</td>\n",
       "      <td>1</td>\n",
       "      <td>0</td>\n",
       "      <td>0</td>\n",
       "      <td>0</td>\n",
       "      <td>1</td>\n",
       "      <td>0</td>\n",
       "      <td>0</td>\n",
       "      <td>0</td>\n",
       "      <td>1</td>\n",
       "    </tr>\n",
       "    <tr>\n",
       "      <th>1</th>\n",
       "      <td>49</td>\n",
       "      <td>160</td>\n",
       "      <td>180</td>\n",
       "      <td>0</td>\n",
       "      <td>156</td>\n",
       "      <td>1.0</td>\n",
       "      <td>1</td>\n",
       "      <td>1</td>\n",
       "      <td>0</td>\n",
       "      <td>1</td>\n",
       "      <td>0</td>\n",
       "      <td>0</td>\n",
       "      <td>0</td>\n",
       "      <td>1</td>\n",
       "      <td>0</td>\n",
       "      <td>0</td>\n",
       "      <td>1</td>\n",
       "      <td>0</td>\n",
       "      <td>0</td>\n",
       "      <td>1</td>\n",
       "      <td>0</td>\n",
       "    </tr>\n",
       "    <tr>\n",
       "      <th>2</th>\n",
       "      <td>37</td>\n",
       "      <td>130</td>\n",
       "      <td>283</td>\n",
       "      <td>0</td>\n",
       "      <td>98</td>\n",
       "      <td>0.0</td>\n",
       "      <td>0</td>\n",
       "      <td>0</td>\n",
       "      <td>1</td>\n",
       "      <td>1</td>\n",
       "      <td>0</td>\n",
       "      <td>0</td>\n",
       "      <td>1</td>\n",
       "      <td>0</td>\n",
       "      <td>0</td>\n",
       "      <td>0</td>\n",
       "      <td>0</td>\n",
       "      <td>1</td>\n",
       "      <td>0</td>\n",
       "      <td>0</td>\n",
       "      <td>1</td>\n",
       "    </tr>\n",
       "    <tr>\n",
       "      <th>3</th>\n",
       "      <td>48</td>\n",
       "      <td>138</td>\n",
       "      <td>214</td>\n",
       "      <td>0</td>\n",
       "      <td>108</td>\n",
       "      <td>1.5</td>\n",
       "      <td>1</td>\n",
       "      <td>1</td>\n",
       "      <td>0</td>\n",
       "      <td>0</td>\n",
       "      <td>1</td>\n",
       "      <td>1</td>\n",
       "      <td>0</td>\n",
       "      <td>0</td>\n",
       "      <td>0</td>\n",
       "      <td>0</td>\n",
       "      <td>1</td>\n",
       "      <td>0</td>\n",
       "      <td>0</td>\n",
       "      <td>1</td>\n",
       "      <td>0</td>\n",
       "    </tr>\n",
       "    <tr>\n",
       "      <th>4</th>\n",
       "      <td>54</td>\n",
       "      <td>150</td>\n",
       "      <td>195</td>\n",
       "      <td>0</td>\n",
       "      <td>122</td>\n",
       "      <td>0.0</td>\n",
       "      <td>0</td>\n",
       "      <td>0</td>\n",
       "      <td>1</td>\n",
       "      <td>1</td>\n",
       "      <td>0</td>\n",
       "      <td>0</td>\n",
       "      <td>0</td>\n",
       "      <td>1</td>\n",
       "      <td>0</td>\n",
       "      <td>0</td>\n",
       "      <td>1</td>\n",
       "      <td>0</td>\n",
       "      <td>0</td>\n",
       "      <td>0</td>\n",
       "      <td>1</td>\n",
       "    </tr>\n",
       "  </tbody>\n",
       "</table>\n",
       "</div>"
      ],
      "text/plain": [
       "   Age  RestingBP  Cholesterol  FastingBS  MaxHR  Oldpeak  HeartDisease  F  M  \\\n",
       "0   40        140          289          0    172      0.0             0  0  1   \n",
       "1   49        160          180          0    156      1.0             1  1  0   \n",
       "2   37        130          283          0     98      0.0             0  0  1   \n",
       "3   48        138          214          0    108      1.5             1  1  0   \n",
       "4   54        150          195          0    122      0.0             0  0  1   \n",
       "\n",
       "   N  Y  ASY  ATA  NAP  TA  LVH  Normal  ST  Down  Flat  Up  \n",
       "0  1  0    0    1    0   0    0       1   0     0     0   1  \n",
       "1  1  0    0    0    1   0    0       1   0     0     1   0  \n",
       "2  1  0    0    1    0   0    0       0   1     0     0   1  \n",
       "3  0  1    1    0    0   0    0       1   0     0     1   0  \n",
       "4  1  0    0    0    1   0    0       1   0     0     0   1  "
      ]
     },
     "execution_count": 9,
     "metadata": {},
     "output_type": "execute_result"
    }
   ],
   "source": [
    "#dropping the categorical columns\n",
    "final_df = merged_df.drop(['Sex','ExerciseAngina','ChestPainType','RestingECG','ST_Slope'], axis=1)\n",
    "pd.set_option('display.max_columns', None)\n",
    "final_df.head()"
   ]
  },
  {
   "cell_type": "code",
   "execution_count": 10,
   "id": "ffbe6b14",
   "metadata": {},
   "outputs": [
    {
     "data": {
      "text/plain": [
       "(918, 21)"
      ]
     },
     "execution_count": 10,
     "metadata": {},
     "output_type": "execute_result"
    }
   ],
   "source": [
    "final_df.shape"
   ]
  },
  {
   "cell_type": "code",
   "execution_count": 11,
   "id": "b951f0c4",
   "metadata": {},
   "outputs": [],
   "source": [
    "Y = final_df.HeartDisease.values # Y is now a numpy array\n",
    "X = final_df.drop(['HeartDisease'],axis=1)"
   ]
  },
  {
   "cell_type": "code",
   "execution_count": 12,
   "id": "1f17ba3b",
   "metadata": {},
   "outputs": [
    {
     "name": "stdout",
     "output_type": "stream",
     "text": [
      "Shape of X (features) :  (918, 20)\n",
      "Shape of Y (label) :  (918,)\n"
     ]
    }
   ],
   "source": [
    "print(\"Shape of X (features) : \", X.shape) # 918 rows and 20 columns(features)\n",
    "print(\"Shape of Y (label) : \", Y.shape)    # 918 rows and 1 column for the label"
   ]
  },
  {
   "cell_type": "markdown",
   "id": "f6e88cdd",
   "metadata": {},
   "source": [
    "### 03.b. Train-Test Split (80%-20%) "
   ]
  },
  {
   "cell_type": "code",
   "execution_count": 13,
   "id": "bf25436c",
   "metadata": {},
   "outputs": [],
   "source": [
    "from sklearn.model_selection import train_test_split\n",
    "\n",
    "X_train, X_test, Y_train, Y_test = train_test_split(X,Y,train_size = 0.8, random_state = 42) "
   ]
  },
  {
   "cell_type": "markdown",
   "id": "92569037",
   "metadata": {},
   "source": [
    "### 03.c. Normalizing The Training & Testing Dataset "
   ]
  },
  {
   "cell_type": "code",
   "execution_count": 14,
   "id": "c71d7fc9",
   "metadata": {},
   "outputs": [
    {
     "data": {
      "text/html": [
       "<div>\n",
       "<style scoped>\n",
       "    .dataframe tbody tr th:only-of-type {\n",
       "        vertical-align: middle;\n",
       "    }\n",
       "\n",
       "    .dataframe tbody tr th {\n",
       "        vertical-align: top;\n",
       "    }\n",
       "\n",
       "    .dataframe thead th {\n",
       "        text-align: right;\n",
       "    }\n",
       "</style>\n",
       "<table border=\"1\" class=\"dataframe\">\n",
       "  <thead>\n",
       "    <tr style=\"text-align: right;\">\n",
       "      <th></th>\n",
       "      <th>Age</th>\n",
       "      <th>RestingBP</th>\n",
       "      <th>Cholesterol</th>\n",
       "      <th>FastingBS</th>\n",
       "      <th>MaxHR</th>\n",
       "      <th>Oldpeak</th>\n",
       "      <th>F</th>\n",
       "      <th>M</th>\n",
       "      <th>N</th>\n",
       "      <th>Y</th>\n",
       "      <th>ASY</th>\n",
       "      <th>ATA</th>\n",
       "      <th>NAP</th>\n",
       "      <th>TA</th>\n",
       "      <th>LVH</th>\n",
       "      <th>Normal</th>\n",
       "      <th>ST</th>\n",
       "      <th>Down</th>\n",
       "      <th>Flat</th>\n",
       "      <th>Up</th>\n",
       "    </tr>\n",
       "  </thead>\n",
       "  <tbody>\n",
       "    <tr>\n",
       "      <th>795</th>\n",
       "      <td>0.270833</td>\n",
       "      <td>0.60</td>\n",
       "      <td>0.398010</td>\n",
       "      <td>1.0</td>\n",
       "      <td>0.943662</td>\n",
       "      <td>0.386364</td>\n",
       "      <td>0.0</td>\n",
       "      <td>1.0</td>\n",
       "      <td>1.0</td>\n",
       "      <td>0.0</td>\n",
       "      <td>0.0</td>\n",
       "      <td>0.0</td>\n",
       "      <td>1.0</td>\n",
       "      <td>0.0</td>\n",
       "      <td>0.0</td>\n",
       "      <td>1.0</td>\n",
       "      <td>0.0</td>\n",
       "      <td>1.0</td>\n",
       "      <td>0.0</td>\n",
       "      <td>0.0</td>\n",
       "    </tr>\n",
       "    <tr>\n",
       "      <th>25</th>\n",
       "      <td>0.145833</td>\n",
       "      <td>0.65</td>\n",
       "      <td>0.346600</td>\n",
       "      <td>0.0</td>\n",
       "      <td>0.830986</td>\n",
       "      <td>0.295455</td>\n",
       "      <td>0.0</td>\n",
       "      <td>1.0</td>\n",
       "      <td>1.0</td>\n",
       "      <td>0.0</td>\n",
       "      <td>0.0</td>\n",
       "      <td>0.0</td>\n",
       "      <td>1.0</td>\n",
       "      <td>0.0</td>\n",
       "      <td>0.0</td>\n",
       "      <td>1.0</td>\n",
       "      <td>0.0</td>\n",
       "      <td>0.0</td>\n",
       "      <td>0.0</td>\n",
       "      <td>1.0</td>\n",
       "    </tr>\n",
       "    <tr>\n",
       "      <th>84</th>\n",
       "      <td>0.562500</td>\n",
       "      <td>0.75</td>\n",
       "      <td>0.353234</td>\n",
       "      <td>1.0</td>\n",
       "      <td>0.457746</td>\n",
       "      <td>0.409091</td>\n",
       "      <td>0.0</td>\n",
       "      <td>1.0</td>\n",
       "      <td>0.0</td>\n",
       "      <td>1.0</td>\n",
       "      <td>1.0</td>\n",
       "      <td>0.0</td>\n",
       "      <td>0.0</td>\n",
       "      <td>0.0</td>\n",
       "      <td>0.0</td>\n",
       "      <td>1.0</td>\n",
       "      <td>0.0</td>\n",
       "      <td>0.0</td>\n",
       "      <td>1.0</td>\n",
       "      <td>0.0</td>\n",
       "    </tr>\n",
       "    <tr>\n",
       "      <th>10</th>\n",
       "      <td>0.166667</td>\n",
       "      <td>0.65</td>\n",
       "      <td>0.349917</td>\n",
       "      <td>0.0</td>\n",
       "      <td>0.577465</td>\n",
       "      <td>0.295455</td>\n",
       "      <td>1.0</td>\n",
       "      <td>0.0</td>\n",
       "      <td>1.0</td>\n",
       "      <td>0.0</td>\n",
       "      <td>0.0</td>\n",
       "      <td>0.0</td>\n",
       "      <td>1.0</td>\n",
       "      <td>0.0</td>\n",
       "      <td>0.0</td>\n",
       "      <td>1.0</td>\n",
       "      <td>0.0</td>\n",
       "      <td>0.0</td>\n",
       "      <td>0.0</td>\n",
       "      <td>1.0</td>\n",
       "    </tr>\n",
       "    <tr>\n",
       "      <th>344</th>\n",
       "      <td>0.458333</td>\n",
       "      <td>0.60</td>\n",
       "      <td>0.000000</td>\n",
       "      <td>1.0</td>\n",
       "      <td>0.309859</td>\n",
       "      <td>0.295455</td>\n",
       "      <td>0.0</td>\n",
       "      <td>1.0</td>\n",
       "      <td>1.0</td>\n",
       "      <td>0.0</td>\n",
       "      <td>1.0</td>\n",
       "      <td>0.0</td>\n",
       "      <td>0.0</td>\n",
       "      <td>0.0</td>\n",
       "      <td>0.0</td>\n",
       "      <td>1.0</td>\n",
       "      <td>0.0</td>\n",
       "      <td>0.0</td>\n",
       "      <td>1.0</td>\n",
       "      <td>0.0</td>\n",
       "    </tr>\n",
       "  </tbody>\n",
       "</table>\n",
       "</div>"
      ],
      "text/plain": [
       "          Age  RestingBP  Cholesterol  FastingBS     MaxHR   Oldpeak    F  \\\n",
       "795  0.270833       0.60     0.398010        1.0  0.943662  0.386364  0.0   \n",
       "25   0.145833       0.65     0.346600        0.0  0.830986  0.295455  0.0   \n",
       "84   0.562500       0.75     0.353234        1.0  0.457746  0.409091  0.0   \n",
       "10   0.166667       0.65     0.349917        0.0  0.577465  0.295455  1.0   \n",
       "344  0.458333       0.60     0.000000        1.0  0.309859  0.295455  0.0   \n",
       "\n",
       "       M    N    Y  ASY  ATA  NAP   TA  LVH  Normal   ST  Down  Flat   Up  \n",
       "795  1.0  1.0  0.0  0.0  0.0  1.0  0.0  0.0     1.0  0.0   1.0   0.0  0.0  \n",
       "25   1.0  1.0  0.0  0.0  0.0  1.0  0.0  0.0     1.0  0.0   0.0   0.0  1.0  \n",
       "84   1.0  0.0  1.0  1.0  0.0  0.0  0.0  0.0     1.0  0.0   0.0   1.0  0.0  \n",
       "10   0.0  1.0  0.0  0.0  0.0  1.0  0.0  0.0     1.0  0.0   0.0   0.0  1.0  \n",
       "344  1.0  1.0  0.0  1.0  0.0  0.0  0.0  0.0     1.0  0.0   0.0   1.0  0.0  "
      ]
     },
     "execution_count": 14,
     "metadata": {},
     "output_type": "execute_result"
    }
   ],
   "source": [
    "X_train = (X_train - np.min(X_train)) / (np.max(X_train) - np.min(X_train)).values\n",
    "X_train.head()"
   ]
  },
  {
   "cell_type": "code",
   "execution_count": 15,
   "id": "725ceca8",
   "metadata": {},
   "outputs": [
    {
     "data": {
      "text/html": [
       "<div>\n",
       "<style scoped>\n",
       "    .dataframe tbody tr th:only-of-type {\n",
       "        vertical-align: middle;\n",
       "    }\n",
       "\n",
       "    .dataframe tbody tr th {\n",
       "        vertical-align: top;\n",
       "    }\n",
       "\n",
       "    .dataframe thead th {\n",
       "        text-align: right;\n",
       "    }\n",
       "</style>\n",
       "<table border=\"1\" class=\"dataframe\">\n",
       "  <thead>\n",
       "    <tr style=\"text-align: right;\">\n",
       "      <th></th>\n",
       "      <th>Age</th>\n",
       "      <th>RestingBP</th>\n",
       "      <th>Cholesterol</th>\n",
       "      <th>FastingBS</th>\n",
       "      <th>MaxHR</th>\n",
       "      <th>Oldpeak</th>\n",
       "      <th>F</th>\n",
       "      <th>M</th>\n",
       "      <th>N</th>\n",
       "      <th>Y</th>\n",
       "      <th>ASY</th>\n",
       "      <th>ATA</th>\n",
       "      <th>NAP</th>\n",
       "      <th>TA</th>\n",
       "      <th>LVH</th>\n",
       "      <th>Normal</th>\n",
       "      <th>ST</th>\n",
       "      <th>Down</th>\n",
       "      <th>Flat</th>\n",
       "      <th>Up</th>\n",
       "    </tr>\n",
       "  </thead>\n",
       "  <tbody>\n",
       "    <tr>\n",
       "      <th>668</th>\n",
       "      <td>0.729167</td>\n",
       "      <td>0.500000</td>\n",
       "      <td>0.345745</td>\n",
       "      <td>0.0</td>\n",
       "      <td>0.870968</td>\n",
       "      <td>0.215686</td>\n",
       "      <td>1.0</td>\n",
       "      <td>0.0</td>\n",
       "      <td>1.0</td>\n",
       "      <td>0.0</td>\n",
       "      <td>0.0</td>\n",
       "      <td>1.0</td>\n",
       "      <td>0.0</td>\n",
       "      <td>0.0</td>\n",
       "      <td>0.0</td>\n",
       "      <td>1.0</td>\n",
       "      <td>0.0</td>\n",
       "      <td>0.0</td>\n",
       "      <td>0.0</td>\n",
       "      <td>1.0</td>\n",
       "    </tr>\n",
       "    <tr>\n",
       "      <th>30</th>\n",
       "      <td>0.520833</td>\n",
       "      <td>0.541667</td>\n",
       "      <td>0.918440</td>\n",
       "      <td>0.0</td>\n",
       "      <td>0.475806</td>\n",
       "      <td>0.215686</td>\n",
       "      <td>0.0</td>\n",
       "      <td>1.0</td>\n",
       "      <td>1.0</td>\n",
       "      <td>0.0</td>\n",
       "      <td>0.0</td>\n",
       "      <td>0.0</td>\n",
       "      <td>1.0</td>\n",
       "      <td>0.0</td>\n",
       "      <td>0.0</td>\n",
       "      <td>1.0</td>\n",
       "      <td>0.0</td>\n",
       "      <td>0.0</td>\n",
       "      <td>1.0</td>\n",
       "      <td>0.0</td>\n",
       "    </tr>\n",
       "    <tr>\n",
       "      <th>377</th>\n",
       "      <td>0.770833</td>\n",
       "      <td>0.666667</td>\n",
       "      <td>0.000000</td>\n",
       "      <td>1.0</td>\n",
       "      <td>0.411290</td>\n",
       "      <td>0.450980</td>\n",
       "      <td>0.0</td>\n",
       "      <td>1.0</td>\n",
       "      <td>1.0</td>\n",
       "      <td>0.0</td>\n",
       "      <td>1.0</td>\n",
       "      <td>0.0</td>\n",
       "      <td>0.0</td>\n",
       "      <td>0.0</td>\n",
       "      <td>0.0</td>\n",
       "      <td>0.0</td>\n",
       "      <td>1.0</td>\n",
       "      <td>0.0</td>\n",
       "      <td>1.0</td>\n",
       "      <td>0.0</td>\n",
       "    </tr>\n",
       "    <tr>\n",
       "      <th>535</th>\n",
       "      <td>0.583333</td>\n",
       "      <td>0.416667</td>\n",
       "      <td>0.000000</td>\n",
       "      <td>0.0</td>\n",
       "      <td>0.411290</td>\n",
       "      <td>0.411765</td>\n",
       "      <td>0.0</td>\n",
       "      <td>1.0</td>\n",
       "      <td>0.0</td>\n",
       "      <td>1.0</td>\n",
       "      <td>1.0</td>\n",
       "      <td>0.0</td>\n",
       "      <td>0.0</td>\n",
       "      <td>0.0</td>\n",
       "      <td>1.0</td>\n",
       "      <td>0.0</td>\n",
       "      <td>0.0</td>\n",
       "      <td>0.0</td>\n",
       "      <td>1.0</td>\n",
       "      <td>0.0</td>\n",
       "    </tr>\n",
       "    <tr>\n",
       "      <th>807</th>\n",
       "      <td>0.541667</td>\n",
       "      <td>0.233333</td>\n",
       "      <td>0.547872</td>\n",
       "      <td>0.0</td>\n",
       "      <td>0.685484</td>\n",
       "      <td>0.215686</td>\n",
       "      <td>0.0</td>\n",
       "      <td>1.0</td>\n",
       "      <td>1.0</td>\n",
       "      <td>0.0</td>\n",
       "      <td>0.0</td>\n",
       "      <td>1.0</td>\n",
       "      <td>0.0</td>\n",
       "      <td>0.0</td>\n",
       "      <td>0.0</td>\n",
       "      <td>1.0</td>\n",
       "      <td>0.0</td>\n",
       "      <td>0.0</td>\n",
       "      <td>0.0</td>\n",
       "      <td>1.0</td>\n",
       "    </tr>\n",
       "  </tbody>\n",
       "</table>\n",
       "</div>"
      ],
      "text/plain": [
       "          Age  RestingBP  Cholesterol  FastingBS     MaxHR   Oldpeak    F  \\\n",
       "668  0.729167   0.500000     0.345745        0.0  0.870968  0.215686  1.0   \n",
       "30   0.520833   0.541667     0.918440        0.0  0.475806  0.215686  0.0   \n",
       "377  0.770833   0.666667     0.000000        1.0  0.411290  0.450980  0.0   \n",
       "535  0.583333   0.416667     0.000000        0.0  0.411290  0.411765  0.0   \n",
       "807  0.541667   0.233333     0.547872        0.0  0.685484  0.215686  0.0   \n",
       "\n",
       "       M    N    Y  ASY  ATA  NAP   TA  LVH  Normal   ST  Down  Flat   Up  \n",
       "668  0.0  1.0  0.0  0.0  1.0  0.0  0.0  0.0     1.0  0.0   0.0   0.0  1.0  \n",
       "30   1.0  1.0  0.0  0.0  0.0  1.0  0.0  0.0     1.0  0.0   0.0   1.0  0.0  \n",
       "377  1.0  1.0  0.0  1.0  0.0  0.0  0.0  0.0     0.0  1.0   0.0   1.0  0.0  \n",
       "535  1.0  0.0  1.0  1.0  0.0  0.0  0.0  1.0     0.0  0.0   0.0   1.0  0.0  \n",
       "807  1.0  1.0  0.0  0.0  1.0  0.0  0.0  0.0     1.0  0.0   0.0   0.0  1.0  "
      ]
     },
     "execution_count": 15,
     "metadata": {},
     "output_type": "execute_result"
    }
   ],
   "source": [
    "X_test = (X_test - np.min(X_test)) / (np.max(X_test) - np.min(X_test)).values\n",
    "X_test.head()"
   ]
  },
  {
   "cell_type": "markdown",
   "id": "54924602",
   "metadata": {},
   "source": [
    "## 04. Logistic Regression by Applying the Library Functions  "
   ]
  },
  {
   "cell_type": "code",
   "execution_count": 16,
   "id": "39d91b0e",
   "metadata": {},
   "outputs": [
    {
     "name": "stdout",
     "output_type": "stream",
     "text": [
      "Test Accuracy without Cross Validation 84.24%\n",
      "--------------------------------------------------------------\n",
      "Test Accuracy with 5-fold cross validation: 86.714% \n",
      "--------------------------------------------------------------\n",
      "The Confusion Matrix is: \n",
      "[[67 10]\n",
      " [19 88]]\n",
      "--------------------------------------------------------------\n",
      "              precision    recall  f1-score   support\n",
      "\n",
      "           0       0.78      0.87      0.82        77\n",
      "           1       0.90      0.82      0.86       107\n",
      "\n",
      "    accuracy                           0.84       184\n",
      "   macro avg       0.84      0.85      0.84       184\n",
      "weighted avg       0.85      0.84      0.84       184\n",
      "\n"
     ]
    }
   ],
   "source": [
    "from sklearn.model_selection import KFold\n",
    "from sklearn.model_selection import cross_val_score\n",
    "from sklearn.linear_model import LogisticRegression\n",
    "from sklearn.metrics import confusion_matrix\n",
    "from sklearn.metrics import classification_report\n",
    "\n",
    "lr = LogisticRegression()\n",
    "lr.fit(X_train,Y_train)\n",
    "print(\"Test Accuracy without Cross Validation {0:.4g}%\".format(lr.score(X_test,Y_test)*100))  #Test Accuracy 84.24%\n",
    "print(\"--------------------------------------------------------------\")\n",
    "\n",
    "# 5 folds selected\n",
    "kfold = KFold(n_splits=5, random_state=0, shuffle=True)\n",
    "results = cross_val_score(lr, X, Y, cv = kfold)\n",
    "print(\"Test Accuracy with 5-fold cross validation: %.3f%% \" % (results.mean()*100.0)) #Test Accuracy 86.714% \n",
    "print(\"--------------------------------------------------------------\")\n",
    "\n",
    "# Construct a confusion matrix\n",
    "predicted = lr.predict(X_test)\n",
    "matrix = confusion_matrix(Y_test, predicted)\n",
    "print(\"The Confusion Matrix is: \")\n",
    "print(matrix) #[[67 10] [19 88]]\n",
    "print(\"--------------------------------------------------------------\")\n",
    "\n",
    "#precision, recall, accuracy and f1 score by using classification_report\n",
    "report = classification_report(Y_test, predicted)\n",
    "print(report)"
   ]
  },
  {
   "cell_type": "code",
   "execution_count": null,
   "id": "a114b638",
   "metadata": {},
   "outputs": [],
   "source": []
  },
  {
   "cell_type": "markdown",
   "id": "82d3d933",
   "metadata": {},
   "source": [
    "Using the SkLearn Library The Logistic Regression Model Has the Accuracy of 84.24%. \n",
    "\n",
    "If we Use the 5 fold Cross Validation the Accuracy jumps to 86.714%\n",
    "\n",
    "The confusion Matrix shows the (tn, fp, fn, tp) = (67,10,19,88)\n",
    "\n",
    "The F1 score is 0.84"
   ]
  },
  {
   "cell_type": "code",
   "execution_count": 17,
   "id": "327e71c3",
   "metadata": {},
   "outputs": [],
   "source": [
    "#help(confusion_matrix)"
   ]
  },
  {
   "cell_type": "code",
   "execution_count": null,
   "id": "590df861",
   "metadata": {},
   "outputs": [],
   "source": []
  },
  {
   "cell_type": "code",
   "execution_count": null,
   "id": "0a8a4e05",
   "metadata": {},
   "outputs": [],
   "source": []
  },
  {
   "cell_type": "code",
   "execution_count": null,
   "id": "24c759f5",
   "metadata": {},
   "outputs": [],
   "source": []
  },
  {
   "cell_type": "code",
   "execution_count": null,
   "id": "6323993e",
   "metadata": {},
   "outputs": [],
   "source": []
  },
  {
   "cell_type": "markdown",
   "id": "3484c8f7",
   "metadata": {},
   "source": [
    "## 05. Custom Logistic Regression Model "
   ]
  },
  {
   "cell_type": "markdown",
   "id": "11b231ca",
   "metadata": {},
   "source": [
    "The steps to build a custom Logistic Regression Algorithm:\n",
    "\n",
    "1. Define the model structure (data shape).\n",
    "2. Initialize model parameters (W, B).\n",
    "3. Learn the parameters for the model by minimizing the cost:\n",
    "   - Calculate current loss (forward propagation). Apply the linear and then nonlinear transformation (Sigmoid Function) on the input features \n",
    "   - Calculate current gradient (backward propagation). Deriving the first derivatives of the loss function with respect to the weights (W) and bias (B)\n",
    "   - Update parameters (gradient descent).\n",
    "4. Use the learned parameters to make predictions (on the test set).\n",
    "5. Analyze the results and find the accuracy of the model."
   ]
  },
  {
   "cell_type": "markdown",
   "id": "3ae96754",
   "metadata": {},
   "source": [
    "We already have our training and testing datasets seperated and normalized from previous step. Here the raining dataset contains 734 rows(m) and 20 features(n). For easier mathematical computation the shape of the matrix is flipped to (n X m)    "
   ]
  },
  {
   "cell_type": "code",
   "execution_count": 18,
   "id": "4d6c198c",
   "metadata": {},
   "outputs": [
    {
     "name": "stdout",
     "output_type": "stream",
     "text": [
      "Shape of X_train :  (734, 20)\n",
      "Shape of Y_train :  (734,)\n",
      "Shape of X_test :  (184, 20)\n",
      "Shape of Y_test :  (184,)\n"
     ]
    }
   ],
   "source": [
    "print(\"Shape of X_train : \", X_train.shape)  # (734 X 20)\n",
    "print(\"Shape of Y_train : \", Y_train.shape)  # (734 X 1)\n",
    "print(\"Shape of X_test : \", X_test.shape)    # (184 X 20)\n",
    "print(\"Shape of Y_test : \", Y_test.shape)    # (184 X 1)"
   ]
  },
  {
   "cell_type": "code",
   "execution_count": 19,
   "id": "a103db0c",
   "metadata": {},
   "outputs": [],
   "source": [
    "X_train = X_train.T\n",
    "X_test = X_test.T\n",
    "Y_train = Y_train.reshape(1, X_train.shape[1])\n",
    "Y_test = Y_test.reshape(1, X_test.shape[1])"
   ]
  },
  {
   "cell_type": "code",
   "execution_count": 20,
   "id": "063b12cb",
   "metadata": {},
   "outputs": [
    {
     "name": "stdout",
     "output_type": "stream",
     "text": [
      "Shape of X_train :  (20, 734)\n",
      "Shape of Y_train :  (1, 734)\n",
      "Shape of X_test :  (20, 184)\n",
      "Shape of Y_test :  (1, 184)\n"
     ]
    }
   ],
   "source": [
    "print(\"Shape of X_train : \", X_train.shape)  # (20 X 734)\n",
    "print(\"Shape of Y_train : \", Y_train.shape)  # (1 X 734)\n",
    "print(\"Shape of X_test : \", X_test.shape)    # (20 X 184)\n",
    "print(\"Shape of Y_test : \", Y_test.shape)    # (1 X 184)"
   ]
  },
  {
   "cell_type": "markdown",
   "id": "7b41fd4f",
   "metadata": {},
   "source": [
    "## 05.a. Sigmoid Function\n",
    "\n",
    "In a linear regression model, the hypothesis function is a linear combination of parameters given as y = ax+b for a simple single parameter data. This allows us to predict continuous values effectively, but in logistic regression, the response variables are binomial, either ‘yes’ or ‘no’. So, it makes less sense to use the linear function to predict anything except the values between 0 and 1. And the most effective function to limit the results of a linear equation to [0,1] is the sigmoid or logistic function."
   ]
  },
  {
   "cell_type": "code",
   "execution_count": 21,
   "id": "16fbb809",
   "metadata": {},
   "outputs": [],
   "source": [
    "def sigmoid(z):\n",
    "    return 1/(1 + np.exp(-z))"
   ]
  },
  {
   "cell_type": "markdown",
   "id": "7eea2428",
   "metadata": {},
   "source": [
    "## 05.b. Initializing Parameters\n",
    "\n",
    "The data sets are always multidimensional. We will need to use matrices for any kind of calculation. So, for input, we have two matrices to deal with. The first one is for feature vectors, and the second is for parameters or weights. Our first matrix is of the m X n dimension, where m is the number of observations while n is the dimension of observations. And the second one is of nx1 dimension. Here, we will add a bias (0) initially to our feature vectors matrix and a corresponding parameter term to the weight vector. Bias is important to make the model more flexible."
   ]
  },
  {
   "cell_type": "code",
   "execution_count": 22,
   "id": "ccd67065",
   "metadata": {},
   "outputs": [],
   "source": [
    "def initialize_weight_bias(n):    # n is the number of features\n",
    "    W = np.zeros((n,1))           # make a column vector of (nX1) with zeros\n",
    "    B = 0                         # B is initialized to zero\n",
    "    return W, B"
   ]
  },
  {
   "attachments": {
    "image-3.png": {
     "image/png": "[encoded data removed]"
    },
    "image-4.png": {
     "image/png": "[encoded data removed]"
    },
    "image-5.png": {
     "image/png": "[encoded data removed]"
    },
    "image-6.png": {
     "image/png": "[encoded data removed]"
    },
    "image-7.png": {
     "image/png": "[encoded data removed]"
    }
   },
   "cell_type": "markdown",
   "id": "e3dd9f34",
   "metadata": {},
   "source": [
    "## 05.c.\n",
    "## Forward Propagation\n",
    "\n",
    "Apply a linear transformation on the input feature(s) and\n",
    "Apply a non linear transformation (sigmoid in our case) on top of the previous output to give the final output.\n",
    "\n",
    "![image-4.png](attachment:image-4.png)\n",
    "\n",
    "\n",
    "## Cost Function\n",
    "\n",
    "Cost function or loss function is that function that describes how much the calculated value deviates from the actual value. Linear regression employs the least squared error as the cost function. But the least squared error function for logistic regression is non-convex. While performing gradient descent chances that we get stuck in a local minimum is more. So instead, we use log loss as the cost function.\n",
    "\n",
    "![image-3.png](attachment:image-3.png)\n",
    "\n",
    "\n",
    "## Backward Propagation & Gradient Descent\n",
    "\n",
    "The next step is gradient descent. The gradients are the vector of the 1st order derivative of the cost function w.r.t the Weights and Bias. These are the direction of the steepest ascent or maximum of a function. For gradient descent, we move in the opposite direction of the gradients. We will be updating the weights in every iteration until the convergence. The Learning rate is the step size responsible for how quick it converges to the global minimum. If the step size is too small, it will converge slowly, but if it is too large, it may overshoot the minimum while descending. (the proof is given in the report)\n",
    "![image-6.png](attachment:image-6.png) ![image-7.png](attachment:image-7.png) ![image-5.png](attachment:image-5.png) "
   ]
  },
  {
   "cell_type": "code",
   "execution_count": null,
   "id": "ea950d2e",
   "metadata": {},
   "outputs": [],
   "source": []
  },
  {
   "cell_type": "code",
   "execution_count": 23,
   "id": "9d5c5335",
   "metadata": {},
   "outputs": [],
   "source": [
    "def forward_backward_propagation(W, B, X, Y):           # X and Y are the training datasets\n",
    "    \n",
    "    m = X.shape[1]          # m is the number of training dataset (734)\n",
    "    \n",
    "    #forward propagation\n",
    "    Z = np.dot(W.T, X) + B  #linear transformation\n",
    "    A = sigmoid(Z)          #sigmoid activation function\n",
    "    \n",
    "    # cost function is to measure the error w.r.t the training label Y\n",
    "    cost = -(1/m)*np.sum( Y*np.log(A) + (1-Y)*np.log(1-A)) \n",
    "    \n",
    "    # Gradient Descent | Backward Propagation use the proof in the report\n",
    "    # To minimize the cost function by finding the local minima\n",
    "    dW = (1/m)*np.dot(A - Y, X.T)\n",
    "    dB = (1/m)*np.sum(A - Y)\n",
    "    \n",
    "    gradients = {\"Derivative_Weight\": dW, \"Derivative_Bias\": dB}\n",
    "    \n",
    "    return cost, gradients"
   ]
  },
  {
   "cell_type": "code",
   "execution_count": 24,
   "id": "0a1bfce7",
   "metadata": {},
   "outputs": [],
   "source": [
    "def update_learning_params(W, B, X, Y, learning_rate, number_of_iteration):\n",
    "    \n",
    "    cost_list = []\n",
    "    cost_list2 = []\n",
    "    index = []\n",
    "    \n",
    "    for i in range(number_of_iteration):\n",
    "        \n",
    "        #make forward and backward prop to find the cost and gradients\n",
    "        cost, gradients = forward_backward_propagation (W, B, X, Y)   # X and Y are the training datasets\n",
    "        cost_list.append(cost)\n",
    "        \n",
    "        #For gradient descent, we move in the opposite direction of the gradients. \n",
    "        #We will be updating the weights in every iteration until the convergence.\n",
    "        W = W - learning_rate * gradients[\"Derivative_Weight\"].T #keys\n",
    "        B = B - learning_rate * gradients[\"Derivative_Bias\"]\n",
    "        \n",
    "        if (i%(number_of_iteration/10) == 0):\n",
    "            cost_list2.append(cost)\n",
    "            index. append(i)\n",
    "            print(\"cost after \", i, \"iteration is : \", cost)\n",
    "            \n",
    "    \n",
    "    parameters = {\"Weight\": W, \"Bias\": B}\n",
    "    plt.plot(index,cost_list2)\n",
    "    plt.xticks(index,rotation='vertical')\n",
    "    plt.xlabel(\"Number of Iteration\")\n",
    "    plt.ylabel(\"Cost\")\n",
    "    plt.show()\n",
    "    return parameters, gradients, cost_list"
   ]
  },
  {
   "cell_type": "code",
   "execution_count": 25,
   "id": "722372ce",
   "metadata": {},
   "outputs": [],
   "source": [
    "def predict (W, B, X): # the X here is the testing dataset\n",
    "    \n",
    "    #forward propagation on the testing dataset\n",
    "    Z = sigmoid(np.dot(W.T, X) + B)          # sigmoid activation function, W and B are updated by gradient descent\n",
    "    Y_predicted = np.zeros((1, X.shape[1]))  # y is an array of zero of shape of the testing dataset\n",
    "    \n",
    "    for i in range (Z.shape[1]):\n",
    "        if Z[0,i] <= 0.5:\n",
    "            Y_predicted[0,i] = 0\n",
    "        else:\n",
    "            Y_predicted[0,i] = 1\n",
    "    return Y_predicted"
   ]
  },
  {
   "cell_type": "code",
   "execution_count": 26,
   "id": "3947820b",
   "metadata": {},
   "outputs": [],
   "source": [
    "def logistic_model(trainX, trainY, testX, testY, learning_rate, iterations):\n",
    "    \n",
    "    m = trainX.shape[1] # number of samples dataset\n",
    "    n = trainX.shape[0] # number of features/attributes in one dataset\n",
    "    W, B = initialize_weight_bias(n)\n",
    "    \n",
    "    parameters, gradients, cost_list = update_learning_params(W, B, trainX, trainY, learning_rate, iterations)\n",
    "    \n",
    "    y_prediction_test = predict(parameters[\"Weight\"], parameters[\"Bias\"], testX)\n",
    "    \n",
    "    accuracy = 100 - np.mean(np.abs(y_prediction_test - testY)) * 100\n",
    "    \n",
    "    print (\"Test Accuracy: \", np.round(accuracy, 3), \"%\")\n",
    "    return y_prediction_test, accuracy"
   ]
  },
  {
   "cell_type": "code",
   "execution_count": 27,
   "id": "4eb56168",
   "metadata": {},
   "outputs": [
    {
     "name": "stdout",
     "output_type": "stream",
     "text": [
      "cost after  0 iteration is :  0.6931471805599453\n",
      "cost after  10000 iteration is :  0.4371756085496092\n",
      "cost after  20000 iteration is :  0.3838748671585977\n",
      "cost after  30000 iteration is :  0.36428611253996535\n",
      "cost after  40000 iteration is :  0.3547382006290552\n",
      "cost after  50000 iteration is :  0.3492261187566167\n",
      "cost after  60000 iteration is :  0.34566217655661857\n",
      "cost after  70000 iteration is :  0.34316508363082815\n",
      "cost after  80000 iteration is :  0.34130942316221363\n",
      "cost after  90000 iteration is :  0.33986807956717957\n"
     ]
    },
    {
     "data": {
      "image/png": "[encoded data removed]",
      "text/plain": [
       "<Figure size 432x288 with 1 Axes>"
      ]
     },
     "metadata": {
      "needs_background": "light"
     },
     "output_type": "display_data"
    },
    {
     "name": "stdout",
     "output_type": "stream",
     "text": [
      "Test Accuracy:  85.326 %\n"
     ]
    }
   ],
   "source": [
    "Y_pred, accuracy = logistic_model(X_train, Y_train, X_test, Y_test, learning_rate = 0.0005, iterations = 100000)\n",
    "#Test Accuracy: 85.33 %"
   ]
  },
  {
   "cell_type": "markdown",
   "id": "c5bc9c99",
   "metadata": {},
   "source": [
    "Our Logistic Regression model gave around 85.33% accuracy"
   ]
  },
  {
   "cell_type": "markdown",
   "id": "99e7ff1c",
   "metadata": {},
   "source": [
    "## 05.d. Confusion Matrix For The Custom LR Model"
   ]
  },
  {
   "cell_type": "code",
   "execution_count": 28,
   "id": "854993d6",
   "metadata": {},
   "outputs": [],
   "source": [
    "Y_test = Y_test.T   # one column vector\n",
    "Y_pred = Y_pred.T   # one column vector"
   ]
  },
  {
   "cell_type": "code",
   "execution_count": 29,
   "id": "a00645d1",
   "metadata": {},
   "outputs": [],
   "source": [
    "def confusion_matrix(pred,original): #pass predicted and original labels to this function\n",
    "\n",
    "    TP = 0\n",
    "    FP = 0\n",
    "    TN = 0\n",
    "    FN = 0\n",
    "    \n",
    "    matrix=np.zeros((2,2))\n",
    "    \n",
    "    for i in range(len(pred)): #the confusion matrix is for 2 classes: 1,0\n",
    "        \n",
    "        \n",
    "        if int(pred[i][0])== 1 and (original[i][0])==1: \n",
    "            TP += 1 #True Positives\n",
    "        elif int(pred[i][0])== 1 and (original[i][0])== 0:\n",
    "            FP += 1 #False Positives\n",
    "        elif int(pred[i][0])== 0 and (original[i][0])==1:\n",
    "            FN += 1 #False Negatives\n",
    "        elif int(pred[i][0])==0 and (original[i][0])==0:\n",
    "            TN += 1 #True Negatives\n",
    "    \n",
    "    precision = TP / (TP + FP)\n",
    "    print(\"Precision:\",np.round(precision*100, 2), \"%\")\n",
    "    recall = TP / (TP + FN)\n",
    "    print(\"Recall:\",np.round(recall*100, 2), \"%\")\n",
    "    accuracy = (TP + TN) / (TP + TN + FP + FN)\n",
    "    print(\"Accuracy:\",np.round(accuracy*100, 2), \"%\")\n",
    "    f1= 2*(precision*recall)/(precision+recall) \n",
    "    print(\"F1 score:\",np.round (f1*100, 2), \"%\")\n",
    "\n",
    "    matrix[0][0] = TP\n",
    "    matrix[0][1] = FP\n",
    "    matrix[1][0] = FN\n",
    "    matrix[1][1] = TN\n",
    "    \n",
    "    return matrix"
   ]
  },
  {
   "cell_type": "code",
   "execution_count": 30,
   "id": "b552ae6a",
   "metadata": {},
   "outputs": [
    {
     "name": "stdout",
     "output_type": "stream",
     "text": [
      "Precision: 90.0 %\n",
      "Recall: 84.11 %\n",
      "Accuracy: 85.33 %\n",
      "F1 score: 86.96 %\n"
     ]
    },
    {
     "data": {
      "text/plain": [
       "array([[90., 10.],\n",
       "       [17., 67.]])"
      ]
     },
     "execution_count": 30,
     "metadata": {},
     "output_type": "execute_result"
    }
   ],
   "source": [
    "confusion_matrix(Y_pred,Y_test) "
   ]
  },
  {
   "cell_type": "markdown",
   "id": "29538791",
   "metadata": {},
   "source": [
    "Precision: 90.0\n",
    "\n",
    "Recall: 84.11\n",
    "\n",
    "Accuracy: 85.33\n",
    "\n",
    "F1 score: 86.96\n",
    "\n",
    "array([[90., 10.],\n",
    "       [17., 67.]])"
   ]
  },
  {
   "cell_type": "markdown",
   "id": "cc0c6277",
   "metadata": {},
   "source": [
    "## 05.e. Cross Validation"
   ]
  },
  {
   "cell_type": "markdown",
   "id": "22cf9e73",
   "metadata": {},
   "source": [
    "1. The dataset is split into training and test dataset.\n",
    "2. The training dataset is then split into K-folds. (5 in this project)\n",
    "3. Out of the K-folds, (K-1) fold is used for training\n",
    "4. 1 fold is used for testing\n",
    "5. The model with specific hyperparameters is trained with training data (K-1 folds) and validation data as 1 fold. The performance of the model is recorded.\n",
    "6. The above steps (step 3, step 4, and step 5) is repeated until each of the k-fold got used for validation purpose. This is why it is called k-fold cross-validation.\n",
    "7. Finally, the mean and standard deviation of the model performance is computed by taking all of the model scores calculated in step 5 for each of the K models.\n",
    "8. Step 3 to Step 7 is repeated for different values of hyperparameters.\n",
    "9. Finally, the hyperparameters which result in the most optimal mean and the standard value of model scores get selected.\n",
    "10. The model is then trained using the training data set (step 2) and the model performance is computed on the test data set (step 1)."
   ]
  },
  {
   "cell_type": "code",
   "execution_count": null,
   "id": "bae0e52e",
   "metadata": {},
   "outputs": [],
   "source": []
  },
  {
   "cell_type": "code",
   "execution_count": 31,
   "id": "5a275ac4",
   "metadata": {},
   "outputs": [
    {
     "data": {
      "text/html": [
       "<div>\n",
       "<style scoped>\n",
       "    .dataframe tbody tr th:only-of-type {\n",
       "        vertical-align: middle;\n",
       "    }\n",
       "\n",
       "    .dataframe tbody tr th {\n",
       "        vertical-align: top;\n",
       "    }\n",
       "\n",
       "    .dataframe thead th {\n",
       "        text-align: right;\n",
       "    }\n",
       "</style>\n",
       "<table border=\"1\" class=\"dataframe\">\n",
       "  <thead>\n",
       "    <tr style=\"text-align: right;\">\n",
       "      <th></th>\n",
       "      <th>Age</th>\n",
       "      <th>RestingBP</th>\n",
       "      <th>Cholesterol</th>\n",
       "      <th>FastingBS</th>\n",
       "      <th>MaxHR</th>\n",
       "      <th>Oldpeak</th>\n",
       "      <th>HeartDisease</th>\n",
       "      <th>F</th>\n",
       "      <th>M</th>\n",
       "      <th>N</th>\n",
       "      <th>Y</th>\n",
       "      <th>ASY</th>\n",
       "      <th>ATA</th>\n",
       "      <th>NAP</th>\n",
       "      <th>TA</th>\n",
       "      <th>LVH</th>\n",
       "      <th>Normal</th>\n",
       "      <th>ST</th>\n",
       "      <th>Down</th>\n",
       "      <th>Flat</th>\n",
       "      <th>Up</th>\n",
       "    </tr>\n",
       "  </thead>\n",
       "  <tbody>\n",
       "    <tr>\n",
       "      <th>0</th>\n",
       "      <td>40</td>\n",
       "      <td>140</td>\n",
       "      <td>289</td>\n",
       "      <td>0</td>\n",
       "      <td>172</td>\n",
       "      <td>0.0</td>\n",
       "      <td>0</td>\n",
       "      <td>0</td>\n",
       "      <td>1</td>\n",
       "      <td>1</td>\n",
       "      <td>0</td>\n",
       "      <td>0</td>\n",
       "      <td>1</td>\n",
       "      <td>0</td>\n",
       "      <td>0</td>\n",
       "      <td>0</td>\n",
       "      <td>1</td>\n",
       "      <td>0</td>\n",
       "      <td>0</td>\n",
       "      <td>0</td>\n",
       "      <td>1</td>\n",
       "    </tr>\n",
       "    <tr>\n",
       "      <th>1</th>\n",
       "      <td>49</td>\n",
       "      <td>160</td>\n",
       "      <td>180</td>\n",
       "      <td>0</td>\n",
       "      <td>156</td>\n",
       "      <td>1.0</td>\n",
       "      <td>1</td>\n",
       "      <td>1</td>\n",
       "      <td>0</td>\n",
       "      <td>1</td>\n",
       "      <td>0</td>\n",
       "      <td>0</td>\n",
       "      <td>0</td>\n",
       "      <td>1</td>\n",
       "      <td>0</td>\n",
       "      <td>0</td>\n",
       "      <td>1</td>\n",
       "      <td>0</td>\n",
       "      <td>0</td>\n",
       "      <td>1</td>\n",
       "      <td>0</td>\n",
       "    </tr>\n",
       "    <tr>\n",
       "      <th>2</th>\n",
       "      <td>37</td>\n",
       "      <td>130</td>\n",
       "      <td>283</td>\n",
       "      <td>0</td>\n",
       "      <td>98</td>\n",
       "      <td>0.0</td>\n",
       "      <td>0</td>\n",
       "      <td>0</td>\n",
       "      <td>1</td>\n",
       "      <td>1</td>\n",
       "      <td>0</td>\n",
       "      <td>0</td>\n",
       "      <td>1</td>\n",
       "      <td>0</td>\n",
       "      <td>0</td>\n",
       "      <td>0</td>\n",
       "      <td>0</td>\n",
       "      <td>1</td>\n",
       "      <td>0</td>\n",
       "      <td>0</td>\n",
       "      <td>1</td>\n",
       "    </tr>\n",
       "    <tr>\n",
       "      <th>3</th>\n",
       "      <td>48</td>\n",
       "      <td>138</td>\n",
       "      <td>214</td>\n",
       "      <td>0</td>\n",
       "      <td>108</td>\n",
       "      <td>1.5</td>\n",
       "      <td>1</td>\n",
       "      <td>1</td>\n",
       "      <td>0</td>\n",
       "      <td>0</td>\n",
       "      <td>1</td>\n",
       "      <td>1</td>\n",
       "      <td>0</td>\n",
       "      <td>0</td>\n",
       "      <td>0</td>\n",
       "      <td>0</td>\n",
       "      <td>1</td>\n",
       "      <td>0</td>\n",
       "      <td>0</td>\n",
       "      <td>1</td>\n",
       "      <td>0</td>\n",
       "    </tr>\n",
       "    <tr>\n",
       "      <th>4</th>\n",
       "      <td>54</td>\n",
       "      <td>150</td>\n",
       "      <td>195</td>\n",
       "      <td>0</td>\n",
       "      <td>122</td>\n",
       "      <td>0.0</td>\n",
       "      <td>0</td>\n",
       "      <td>0</td>\n",
       "      <td>1</td>\n",
       "      <td>1</td>\n",
       "      <td>0</td>\n",
       "      <td>0</td>\n",
       "      <td>0</td>\n",
       "      <td>1</td>\n",
       "      <td>0</td>\n",
       "      <td>0</td>\n",
       "      <td>1</td>\n",
       "      <td>0</td>\n",
       "      <td>0</td>\n",
       "      <td>0</td>\n",
       "      <td>1</td>\n",
       "    </tr>\n",
       "  </tbody>\n",
       "</table>\n",
       "</div>"
      ],
      "text/plain": [
       "   Age  RestingBP  Cholesterol  FastingBS  MaxHR  Oldpeak  HeartDisease  F  M  \\\n",
       "0   40        140          289          0    172      0.0             0  0  1   \n",
       "1   49        160          180          0    156      1.0             1  1  0   \n",
       "2   37        130          283          0     98      0.0             0  0  1   \n",
       "3   48        138          214          0    108      1.5             1  1  0   \n",
       "4   54        150          195          0    122      0.0             0  0  1   \n",
       "\n",
       "   N  Y  ASY  ATA  NAP  TA  LVH  Normal  ST  Down  Flat  Up  \n",
       "0  1  0    0    1    0   0    0       1   0     0     0   1  \n",
       "1  1  0    0    0    1   0    0       1   0     0     1   0  \n",
       "2  1  0    0    1    0   0    0       0   1     0     0   1  \n",
       "3  0  1    1    0    0   0    0       1   0     0     1   0  \n",
       "4  1  0    0    0    1   0    0       1   0     0     0   1  "
      ]
     },
     "execution_count": 31,
     "metadata": {},
     "output_type": "execute_result"
    }
   ],
   "source": [
    "final_df.head()"
   ]
  },
  {
   "cell_type": "code",
   "execution_count": 32,
   "id": "39516271",
   "metadata": {},
   "outputs": [
    {
     "name": "stdout",
     "output_type": "stream",
     "text": [
      "Randomized data by randomizing the index : \n"
     ]
    },
    {
     "data": {
      "text/html": [
       "<div>\n",
       "<style scoped>\n",
       "    .dataframe tbody tr th:only-of-type {\n",
       "        vertical-align: middle;\n",
       "    }\n",
       "\n",
       "    .dataframe tbody tr th {\n",
       "        vertical-align: top;\n",
       "    }\n",
       "\n",
       "    .dataframe thead th {\n",
       "        text-align: right;\n",
       "    }\n",
       "</style>\n",
       "<table border=\"1\" class=\"dataframe\">\n",
       "  <thead>\n",
       "    <tr style=\"text-align: right;\">\n",
       "      <th></th>\n",
       "      <th>Age</th>\n",
       "      <th>RestingBP</th>\n",
       "      <th>Cholesterol</th>\n",
       "      <th>FastingBS</th>\n",
       "      <th>MaxHR</th>\n",
       "      <th>Oldpeak</th>\n",
       "      <th>HeartDisease</th>\n",
       "      <th>F</th>\n",
       "      <th>M</th>\n",
       "      <th>N</th>\n",
       "      <th>Y</th>\n",
       "      <th>ASY</th>\n",
       "      <th>ATA</th>\n",
       "      <th>NAP</th>\n",
       "      <th>TA</th>\n",
       "      <th>LVH</th>\n",
       "      <th>Normal</th>\n",
       "      <th>ST</th>\n",
       "      <th>Down</th>\n",
       "      <th>Flat</th>\n",
       "      <th>Up</th>\n",
       "    </tr>\n",
       "  </thead>\n",
       "  <tbody>\n",
       "    <tr>\n",
       "      <th>91</th>\n",
       "      <td>39</td>\n",
       "      <td>130</td>\n",
       "      <td>307</td>\n",
       "      <td>0</td>\n",
       "      <td>140</td>\n",
       "      <td>0.0</td>\n",
       "      <td>0</td>\n",
       "      <td>0</td>\n",
       "      <td>1</td>\n",
       "      <td>1</td>\n",
       "      <td>0</td>\n",
       "      <td>1</td>\n",
       "      <td>0</td>\n",
       "      <td>0</td>\n",
       "      <td>0</td>\n",
       "      <td>0</td>\n",
       "      <td>1</td>\n",
       "      <td>0</td>\n",
       "      <td>0</td>\n",
       "      <td>0</td>\n",
       "      <td>1</td>\n",
       "    </tr>\n",
       "    <tr>\n",
       "      <th>591</th>\n",
       "      <td>58</td>\n",
       "      <td>100</td>\n",
       "      <td>213</td>\n",
       "      <td>0</td>\n",
       "      <td>110</td>\n",
       "      <td>0.0</td>\n",
       "      <td>0</td>\n",
       "      <td>0</td>\n",
       "      <td>1</td>\n",
       "      <td>1</td>\n",
       "      <td>0</td>\n",
       "      <td>1</td>\n",
       "      <td>0</td>\n",
       "      <td>0</td>\n",
       "      <td>0</td>\n",
       "      <td>0</td>\n",
       "      <td>0</td>\n",
       "      <td>1</td>\n",
       "      <td>0</td>\n",
       "      <td>0</td>\n",
       "      <td>1</td>\n",
       "    </tr>\n",
       "    <tr>\n",
       "      <th>619</th>\n",
       "      <td>74</td>\n",
       "      <td>120</td>\n",
       "      <td>269</td>\n",
       "      <td>0</td>\n",
       "      <td>121</td>\n",
       "      <td>0.2</td>\n",
       "      <td>0</td>\n",
       "      <td>1</td>\n",
       "      <td>0</td>\n",
       "      <td>0</td>\n",
       "      <td>1</td>\n",
       "      <td>0</td>\n",
       "      <td>1</td>\n",
       "      <td>0</td>\n",
       "      <td>0</td>\n",
       "      <td>1</td>\n",
       "      <td>0</td>\n",
       "      <td>0</td>\n",
       "      <td>0</td>\n",
       "      <td>0</td>\n",
       "      <td>1</td>\n",
       "    </tr>\n",
       "    <tr>\n",
       "      <th>842</th>\n",
       "      <td>43</td>\n",
       "      <td>132</td>\n",
       "      <td>341</td>\n",
       "      <td>1</td>\n",
       "      <td>136</td>\n",
       "      <td>3.0</td>\n",
       "      <td>1</td>\n",
       "      <td>1</td>\n",
       "      <td>0</td>\n",
       "      <td>0</td>\n",
       "      <td>1</td>\n",
       "      <td>1</td>\n",
       "      <td>0</td>\n",
       "      <td>0</td>\n",
       "      <td>0</td>\n",
       "      <td>1</td>\n",
       "      <td>0</td>\n",
       "      <td>0</td>\n",
       "      <td>0</td>\n",
       "      <td>1</td>\n",
       "      <td>0</td>\n",
       "    </tr>\n",
       "    <tr>\n",
       "      <th>664</th>\n",
       "      <td>65</td>\n",
       "      <td>150</td>\n",
       "      <td>225</td>\n",
       "      <td>0</td>\n",
       "      <td>114</td>\n",
       "      <td>1.0</td>\n",
       "      <td>1</td>\n",
       "      <td>1</td>\n",
       "      <td>0</td>\n",
       "      <td>1</td>\n",
       "      <td>0</td>\n",
       "      <td>1</td>\n",
       "      <td>0</td>\n",
       "      <td>0</td>\n",
       "      <td>0</td>\n",
       "      <td>1</td>\n",
       "      <td>0</td>\n",
       "      <td>0</td>\n",
       "      <td>0</td>\n",
       "      <td>1</td>\n",
       "      <td>0</td>\n",
       "    </tr>\n",
       "    <tr>\n",
       "      <th>...</th>\n",
       "      <td>...</td>\n",
       "      <td>...</td>\n",
       "      <td>...</td>\n",
       "      <td>...</td>\n",
       "      <td>...</td>\n",
       "      <td>...</td>\n",
       "      <td>...</td>\n",
       "      <td>...</td>\n",
       "      <td>...</td>\n",
       "      <td>...</td>\n",
       "      <td>...</td>\n",
       "      <td>...</td>\n",
       "      <td>...</td>\n",
       "      <td>...</td>\n",
       "      <td>...</td>\n",
       "      <td>...</td>\n",
       "      <td>...</td>\n",
       "      <td>...</td>\n",
       "      <td>...</td>\n",
       "      <td>...</td>\n",
       "      <td>...</td>\n",
       "    </tr>\n",
       "    <tr>\n",
       "      <th>205</th>\n",
       "      <td>50</td>\n",
       "      <td>150</td>\n",
       "      <td>215</td>\n",
       "      <td>0</td>\n",
       "      <td>140</td>\n",
       "      <td>0.0</td>\n",
       "      <td>0</td>\n",
       "      <td>0</td>\n",
       "      <td>1</td>\n",
       "      <td>0</td>\n",
       "      <td>1</td>\n",
       "      <td>1</td>\n",
       "      <td>0</td>\n",
       "      <td>0</td>\n",
       "      <td>0</td>\n",
       "      <td>0</td>\n",
       "      <td>1</td>\n",
       "      <td>0</td>\n",
       "      <td>0</td>\n",
       "      <td>0</td>\n",
       "      <td>1</td>\n",
       "    </tr>\n",
       "    <tr>\n",
       "      <th>790</th>\n",
       "      <td>62</td>\n",
       "      <td>138</td>\n",
       "      <td>294</td>\n",
       "      <td>1</td>\n",
       "      <td>106</td>\n",
       "      <td>1.9</td>\n",
       "      <td>1</td>\n",
       "      <td>1</td>\n",
       "      <td>0</td>\n",
       "      <td>1</td>\n",
       "      <td>0</td>\n",
       "      <td>1</td>\n",
       "      <td>0</td>\n",
       "      <td>0</td>\n",
       "      <td>0</td>\n",
       "      <td>0</td>\n",
       "      <td>1</td>\n",
       "      <td>0</td>\n",
       "      <td>0</td>\n",
       "      <td>1</td>\n",
       "      <td>0</td>\n",
       "    </tr>\n",
       "    <tr>\n",
       "      <th>863</th>\n",
       "      <td>60</td>\n",
       "      <td>140</td>\n",
       "      <td>185</td>\n",
       "      <td>0</td>\n",
       "      <td>155</td>\n",
       "      <td>3.0</td>\n",
       "      <td>1</td>\n",
       "      <td>0</td>\n",
       "      <td>1</td>\n",
       "      <td>1</td>\n",
       "      <td>0</td>\n",
       "      <td>0</td>\n",
       "      <td>0</td>\n",
       "      <td>1</td>\n",
       "      <td>0</td>\n",
       "      <td>1</td>\n",
       "      <td>0</td>\n",
       "      <td>0</td>\n",
       "      <td>0</td>\n",
       "      <td>1</td>\n",
       "      <td>0</td>\n",
       "    </tr>\n",
       "    <tr>\n",
       "      <th>550</th>\n",
       "      <td>55</td>\n",
       "      <td>172</td>\n",
       "      <td>260</td>\n",
       "      <td>0</td>\n",
       "      <td>73</td>\n",
       "      <td>2.0</td>\n",
       "      <td>1</td>\n",
       "      <td>0</td>\n",
       "      <td>1</td>\n",
       "      <td>1</td>\n",
       "      <td>0</td>\n",
       "      <td>1</td>\n",
       "      <td>0</td>\n",
       "      <td>0</td>\n",
       "      <td>0</td>\n",
       "      <td>0</td>\n",
       "      <td>1</td>\n",
       "      <td>0</td>\n",
       "      <td>0</td>\n",
       "      <td>1</td>\n",
       "      <td>0</td>\n",
       "    </tr>\n",
       "    <tr>\n",
       "      <th>490</th>\n",
       "      <td>72</td>\n",
       "      <td>120</td>\n",
       "      <td>214</td>\n",
       "      <td>0</td>\n",
       "      <td>102</td>\n",
       "      <td>1.0</td>\n",
       "      <td>1</td>\n",
       "      <td>0</td>\n",
       "      <td>1</td>\n",
       "      <td>0</td>\n",
       "      <td>1</td>\n",
       "      <td>0</td>\n",
       "      <td>0</td>\n",
       "      <td>1</td>\n",
       "      <td>0</td>\n",
       "      <td>0</td>\n",
       "      <td>1</td>\n",
       "      <td>0</td>\n",
       "      <td>0</td>\n",
       "      <td>1</td>\n",
       "      <td>0</td>\n",
       "    </tr>\n",
       "  </tbody>\n",
       "</table>\n",
       "<p>918 rows × 21 columns</p>\n",
       "</div>"
      ],
      "text/plain": [
       "     Age  RestingBP  Cholesterol  FastingBS  MaxHR  Oldpeak  HeartDisease  F  \\\n",
       "91    39        130          307          0    140      0.0             0  0   \n",
       "591   58        100          213          0    110      0.0             0  0   \n",
       "619   74        120          269          0    121      0.2             0  1   \n",
       "842   43        132          341          1    136      3.0             1  1   \n",
       "664   65        150          225          0    114      1.0             1  1   \n",
       "..   ...        ...          ...        ...    ...      ...           ... ..   \n",
       "205   50        150          215          0    140      0.0             0  0   \n",
       "790   62        138          294          1    106      1.9             1  1   \n",
       "863   60        140          185          0    155      3.0             1  0   \n",
       "550   55        172          260          0     73      2.0             1  0   \n",
       "490   72        120          214          0    102      1.0             1  0   \n",
       "\n",
       "     M  N  Y  ASY  ATA  NAP  TA  LVH  Normal  ST  Down  Flat  Up  \n",
       "91   1  1  0    1    0    0   0    0       1   0     0     0   1  \n",
       "591  1  1  0    1    0    0   0    0       0   1     0     0   1  \n",
       "619  0  0  1    0    1    0   0    1       0   0     0     0   1  \n",
       "842  0  0  1    1    0    0   0    1       0   0     0     1   0  \n",
       "664  0  1  0    1    0    0   0    1       0   0     0     1   0  \n",
       "..  .. .. ..  ...  ...  ...  ..  ...     ...  ..   ...   ...  ..  \n",
       "205  1  0  1    1    0    0   0    0       1   0     0     0   1  \n",
       "790  0  1  0    1    0    0   0    0       1   0     0     1   0  \n",
       "863  1  1  0    0    0    1   0    1       0   0     0     1   0  \n",
       "550  1  1  0    1    0    0   0    0       1   0     0     1   0  \n",
       "490  1  0  1    0    0    1   0    0       1   0     0     1   0  \n",
       "\n",
       "[918 rows x 21 columns]"
      ]
     },
     "execution_count": 32,
     "metadata": {},
     "output_type": "execute_result"
    }
   ],
   "source": [
    "final_df = final_df.reindex(np.random.permutation(final_df.index))                                                          \n",
    "print(\"Randomized data by randomizing the index : \")\n",
    "\n",
    "final_df"
   ]
  },
  {
   "cell_type": "code",
   "execution_count": 33,
   "id": "90cdfd21",
   "metadata": {},
   "outputs": [
    {
     "name": "stdout",
     "output_type": "stream",
     "text": [
      "Randomized data with reseted index: \n"
     ]
    },
    {
     "data": {
      "text/html": [
       "<div>\n",
       "<style scoped>\n",
       "    .dataframe tbody tr th:only-of-type {\n",
       "        vertical-align: middle;\n",
       "    }\n",
       "\n",
       "    .dataframe tbody tr th {\n",
       "        vertical-align: top;\n",
       "    }\n",
       "\n",
       "    .dataframe thead th {\n",
       "        text-align: right;\n",
       "    }\n",
       "</style>\n",
       "<table border=\"1\" class=\"dataframe\">\n",
       "  <thead>\n",
       "    <tr style=\"text-align: right;\">\n",
       "      <th></th>\n",
       "      <th>Age</th>\n",
       "      <th>RestingBP</th>\n",
       "      <th>Cholesterol</th>\n",
       "      <th>FastingBS</th>\n",
       "      <th>MaxHR</th>\n",
       "      <th>Oldpeak</th>\n",
       "      <th>HeartDisease</th>\n",
       "      <th>F</th>\n",
       "      <th>M</th>\n",
       "      <th>N</th>\n",
       "      <th>Y</th>\n",
       "      <th>ASY</th>\n",
       "      <th>ATA</th>\n",
       "      <th>NAP</th>\n",
       "      <th>TA</th>\n",
       "      <th>LVH</th>\n",
       "      <th>Normal</th>\n",
       "      <th>ST</th>\n",
       "      <th>Down</th>\n",
       "      <th>Flat</th>\n",
       "      <th>Up</th>\n",
       "    </tr>\n",
       "  </thead>\n",
       "  <tbody>\n",
       "    <tr>\n",
       "      <th>0</th>\n",
       "      <td>39</td>\n",
       "      <td>130</td>\n",
       "      <td>307</td>\n",
       "      <td>0</td>\n",
       "      <td>140</td>\n",
       "      <td>0.0</td>\n",
       "      <td>0</td>\n",
       "      <td>0</td>\n",
       "      <td>1</td>\n",
       "      <td>1</td>\n",
       "      <td>0</td>\n",
       "      <td>1</td>\n",
       "      <td>0</td>\n",
       "      <td>0</td>\n",
       "      <td>0</td>\n",
       "      <td>0</td>\n",
       "      <td>1</td>\n",
       "      <td>0</td>\n",
       "      <td>0</td>\n",
       "      <td>0</td>\n",
       "      <td>1</td>\n",
       "    </tr>\n",
       "    <tr>\n",
       "      <th>1</th>\n",
       "      <td>58</td>\n",
       "      <td>100</td>\n",
       "      <td>213</td>\n",
       "      <td>0</td>\n",
       "      <td>110</td>\n",
       "      <td>0.0</td>\n",
       "      <td>0</td>\n",
       "      <td>0</td>\n",
       "      <td>1</td>\n",
       "      <td>1</td>\n",
       "      <td>0</td>\n",
       "      <td>1</td>\n",
       "      <td>0</td>\n",
       "      <td>0</td>\n",
       "      <td>0</td>\n",
       "      <td>0</td>\n",
       "      <td>0</td>\n",
       "      <td>1</td>\n",
       "      <td>0</td>\n",
       "      <td>0</td>\n",
       "      <td>1</td>\n",
       "    </tr>\n",
       "    <tr>\n",
       "      <th>2</th>\n",
       "      <td>74</td>\n",
       "      <td>120</td>\n",
       "      <td>269</td>\n",
       "      <td>0</td>\n",
       "      <td>121</td>\n",
       "      <td>0.2</td>\n",
       "      <td>0</td>\n",
       "      <td>1</td>\n",
       "      <td>0</td>\n",
       "      <td>0</td>\n",
       "      <td>1</td>\n",
       "      <td>0</td>\n",
       "      <td>1</td>\n",
       "      <td>0</td>\n",
       "      <td>0</td>\n",
       "      <td>1</td>\n",
       "      <td>0</td>\n",
       "      <td>0</td>\n",
       "      <td>0</td>\n",
       "      <td>0</td>\n",
       "      <td>1</td>\n",
       "    </tr>\n",
       "    <tr>\n",
       "      <th>3</th>\n",
       "      <td>43</td>\n",
       "      <td>132</td>\n",
       "      <td>341</td>\n",
       "      <td>1</td>\n",
       "      <td>136</td>\n",
       "      <td>3.0</td>\n",
       "      <td>1</td>\n",
       "      <td>1</td>\n",
       "      <td>0</td>\n",
       "      <td>0</td>\n",
       "      <td>1</td>\n",
       "      <td>1</td>\n",
       "      <td>0</td>\n",
       "      <td>0</td>\n",
       "      <td>0</td>\n",
       "      <td>1</td>\n",
       "      <td>0</td>\n",
       "      <td>0</td>\n",
       "      <td>0</td>\n",
       "      <td>1</td>\n",
       "      <td>0</td>\n",
       "    </tr>\n",
       "    <tr>\n",
       "      <th>4</th>\n",
       "      <td>65</td>\n",
       "      <td>150</td>\n",
       "      <td>225</td>\n",
       "      <td>0</td>\n",
       "      <td>114</td>\n",
       "      <td>1.0</td>\n",
       "      <td>1</td>\n",
       "      <td>1</td>\n",
       "      <td>0</td>\n",
       "      <td>1</td>\n",
       "      <td>0</td>\n",
       "      <td>1</td>\n",
       "      <td>0</td>\n",
       "      <td>0</td>\n",
       "      <td>0</td>\n",
       "      <td>1</td>\n",
       "      <td>0</td>\n",
       "      <td>0</td>\n",
       "      <td>0</td>\n",
       "      <td>1</td>\n",
       "      <td>0</td>\n",
       "    </tr>\n",
       "    <tr>\n",
       "      <th>...</th>\n",
       "      <td>...</td>\n",
       "      <td>...</td>\n",
       "      <td>...</td>\n",
       "      <td>...</td>\n",
       "      <td>...</td>\n",
       "      <td>...</td>\n",
       "      <td>...</td>\n",
       "      <td>...</td>\n",
       "      <td>...</td>\n",
       "      <td>...</td>\n",
       "      <td>...</td>\n",
       "      <td>...</td>\n",
       "      <td>...</td>\n",
       "      <td>...</td>\n",
       "      <td>...</td>\n",
       "      <td>...</td>\n",
       "      <td>...</td>\n",
       "      <td>...</td>\n",
       "      <td>...</td>\n",
       "      <td>...</td>\n",
       "      <td>...</td>\n",
       "    </tr>\n",
       "    <tr>\n",
       "      <th>913</th>\n",
       "      <td>50</td>\n",
       "      <td>150</td>\n",
       "      <td>215</td>\n",
       "      <td>0</td>\n",
       "      <td>140</td>\n",
       "      <td>0.0</td>\n",
       "      <td>0</td>\n",
       "      <td>0</td>\n",
       "      <td>1</td>\n",
       "      <td>0</td>\n",
       "      <td>1</td>\n",
       "      <td>1</td>\n",
       "      <td>0</td>\n",
       "      <td>0</td>\n",
       "      <td>0</td>\n",
       "      <td>0</td>\n",
       "      <td>1</td>\n",
       "      <td>0</td>\n",
       "      <td>0</td>\n",
       "      <td>0</td>\n",
       "      <td>1</td>\n",
       "    </tr>\n",
       "    <tr>\n",
       "      <th>914</th>\n",
       "      <td>62</td>\n",
       "      <td>138</td>\n",
       "      <td>294</td>\n",
       "      <td>1</td>\n",
       "      <td>106</td>\n",
       "      <td>1.9</td>\n",
       "      <td>1</td>\n",
       "      <td>1</td>\n",
       "      <td>0</td>\n",
       "      <td>1</td>\n",
       "      <td>0</td>\n",
       "      <td>1</td>\n",
       "      <td>0</td>\n",
       "      <td>0</td>\n",
       "      <td>0</td>\n",
       "      <td>0</td>\n",
       "      <td>1</td>\n",
       "      <td>0</td>\n",
       "      <td>0</td>\n",
       "      <td>1</td>\n",
       "      <td>0</td>\n",
       "    </tr>\n",
       "    <tr>\n",
       "      <th>915</th>\n",
       "      <td>60</td>\n",
       "      <td>140</td>\n",
       "      <td>185</td>\n",
       "      <td>0</td>\n",
       "      <td>155</td>\n",
       "      <td>3.0</td>\n",
       "      <td>1</td>\n",
       "      <td>0</td>\n",
       "      <td>1</td>\n",
       "      <td>1</td>\n",
       "      <td>0</td>\n",
       "      <td>0</td>\n",
       "      <td>0</td>\n",
       "      <td>1</td>\n",
       "      <td>0</td>\n",
       "      <td>1</td>\n",
       "      <td>0</td>\n",
       "      <td>0</td>\n",
       "      <td>0</td>\n",
       "      <td>1</td>\n",
       "      <td>0</td>\n",
       "    </tr>\n",
       "    <tr>\n",
       "      <th>916</th>\n",
       "      <td>55</td>\n",
       "      <td>172</td>\n",
       "      <td>260</td>\n",
       "      <td>0</td>\n",
       "      <td>73</td>\n",
       "      <td>2.0</td>\n",
       "      <td>1</td>\n",
       "      <td>0</td>\n",
       "      <td>1</td>\n",
       "      <td>1</td>\n",
       "      <td>0</td>\n",
       "      <td>1</td>\n",
       "      <td>0</td>\n",
       "      <td>0</td>\n",
       "      <td>0</td>\n",
       "      <td>0</td>\n",
       "      <td>1</td>\n",
       "      <td>0</td>\n",
       "      <td>0</td>\n",
       "      <td>1</td>\n",
       "      <td>0</td>\n",
       "    </tr>\n",
       "    <tr>\n",
       "      <th>917</th>\n",
       "      <td>72</td>\n",
       "      <td>120</td>\n",
       "      <td>214</td>\n",
       "      <td>0</td>\n",
       "      <td>102</td>\n",
       "      <td>1.0</td>\n",
       "      <td>1</td>\n",
       "      <td>0</td>\n",
       "      <td>1</td>\n",
       "      <td>0</td>\n",
       "      <td>1</td>\n",
       "      <td>0</td>\n",
       "      <td>0</td>\n",
       "      <td>1</td>\n",
       "      <td>0</td>\n",
       "      <td>0</td>\n",
       "      <td>1</td>\n",
       "      <td>0</td>\n",
       "      <td>0</td>\n",
       "      <td>1</td>\n",
       "      <td>0</td>\n",
       "    </tr>\n",
       "  </tbody>\n",
       "</table>\n",
       "<p>918 rows × 21 columns</p>\n",
       "</div>"
      ],
      "text/plain": [
       "     Age  RestingBP  Cholesterol  FastingBS  MaxHR  Oldpeak  HeartDisease  F  \\\n",
       "0     39        130          307          0    140      0.0             0  0   \n",
       "1     58        100          213          0    110      0.0             0  0   \n",
       "2     74        120          269          0    121      0.2             0  1   \n",
       "3     43        132          341          1    136      3.0             1  1   \n",
       "4     65        150          225          0    114      1.0             1  1   \n",
       "..   ...        ...          ...        ...    ...      ...           ... ..   \n",
       "913   50        150          215          0    140      0.0             0  0   \n",
       "914   62        138          294          1    106      1.9             1  1   \n",
       "915   60        140          185          0    155      3.0             1  0   \n",
       "916   55        172          260          0     73      2.0             1  0   \n",
       "917   72        120          214          0    102      1.0             1  0   \n",
       "\n",
       "     M  N  Y  ASY  ATA  NAP  TA  LVH  Normal  ST  Down  Flat  Up  \n",
       "0    1  1  0    1    0    0   0    0       1   0     0     0   1  \n",
       "1    1  1  0    1    0    0   0    0       0   1     0     0   1  \n",
       "2    0  0  1    0    1    0   0    1       0   0     0     0   1  \n",
       "3    0  0  1    1    0    0   0    1       0   0     0     1   0  \n",
       "4    0  1  0    1    0    0   0    1       0   0     0     1   0  \n",
       "..  .. .. ..  ...  ...  ...  ..  ...     ...  ..   ...   ...  ..  \n",
       "913  1  0  1    1    0    0   0    0       1   0     0     0   1  \n",
       "914  0  1  0    1    0    0   0    0       1   0     0     1   0  \n",
       "915  1  1  0    0    0    1   0    1       0   0     0     1   0  \n",
       "916  1  1  0    1    0    0   0    0       1   0     0     1   0  \n",
       "917  1  0  1    0    0    1   0    0       1   0     0     1   0  \n",
       "\n",
       "[918 rows x 21 columns]"
      ]
     },
     "execution_count": 33,
     "metadata": {},
     "output_type": "execute_result"
    }
   ],
   "source": [
    "final_df = final_df.reset_index(drop=True)                                                                                   \n",
    "print(\"Randomized data with reseted index: \")\n",
    "\n",
    "final_df"
   ]
  },
  {
   "cell_type": "code",
   "execution_count": 34,
   "id": "ce72c24b",
   "metadata": {},
   "outputs": [],
   "source": [
    "#five folds                                                              \n",
    "fold1 = final_df.loc[0:183]                                            \n",
    "fold2 = final_df.loc[184:367]\n",
    "fold3 = final_df.loc[368:551]\n",
    "fold4 = final_df.loc[552:734]\n",
    "fold5 = final_df.loc[735:917]"
   ]
  },
  {
   "cell_type": "code",
   "execution_count": 35,
   "id": "d3f0ee96",
   "metadata": {},
   "outputs": [],
   "source": [
    "#creating five different train-test split \n",
    "\n",
    "train_val1 = pd.concat([fold1, fold2, fold3, fold4])\n",
    "test_val1 = fold5\n",
    "\n",
    "train_val2 = pd.concat([fold1, fold2, fold3, fold5])\n",
    "test_val2 = fold4\n",
    "\n",
    "train_val3 = pd.concat([fold1, fold2, fold4, fold5])\n",
    "test_val3 = fold3\n",
    "\n",
    "train_val4 = pd.concat([fold1, fold3, fold4, fold5])\n",
    "test_val4 = fold2\n",
    "\n",
    "train_val5 = pd.concat([fold2, fold3, fold4, fold5])\n",
    "test_val5 = fold1"
   ]
  },
  {
   "cell_type": "code",
   "execution_count": 36,
   "id": "3be00428",
   "metadata": {},
   "outputs": [],
   "source": [
    "# seperating the X and Y in each fold\n",
    "\n",
    "train_val1_Y = train_val1.HeartDisease.values\n",
    "train_val1_X = train_val1.drop(['HeartDisease'],axis=1)\n",
    "test_val1_Y = test_val1.HeartDisease.values\n",
    "test_val1_X = test_val1.drop(['HeartDisease'],axis=1)\n",
    "\n",
    "train_val2_Y = train_val2.HeartDisease.values\n",
    "train_val2_X = train_val2.drop(['HeartDisease'],axis=1)\n",
    "test_val2_Y = test_val2.HeartDisease.values\n",
    "test_val2_X = test_val2.drop(['HeartDisease'],axis=1)\n",
    "\n",
    "train_val3_Y = train_val3.HeartDisease.values\n",
    "train_val3_X = train_val3.drop(['HeartDisease'],axis=1)\n",
    "test_val3_Y = test_val3.HeartDisease.values\n",
    "test_val3_X = test_val3.drop(['HeartDisease'],axis=1)\n",
    "\n",
    "train_val4_Y = train_val4.HeartDisease.values\n",
    "train_val4_X = train_val4.drop(['HeartDisease'],axis=1)\n",
    "test_val4_Y = test_val4.HeartDisease.values\n",
    "test_val4_X = test_val4.drop(['HeartDisease'],axis=1)\n",
    "\n",
    "train_val5_Y = train_val5.HeartDisease.values\n",
    "train_val5_X = train_val5.drop(['HeartDisease'],axis=1)\n",
    "test_val5_Y = test_val5.HeartDisease.values\n",
    "test_val5_X = test_val5.drop(['HeartDisease'],axis=1)"
   ]
  },
  {
   "cell_type": "code",
   "execution_count": 37,
   "id": "e7126c84",
   "metadata": {},
   "outputs": [],
   "source": [
    "#Normalizing the training datasets for each fold\n",
    "\n",
    "train_val1_X = (train_val1_X - np.min(train_val1_X)) / (np.max(train_val1_X) - np.min(train_val1_X)).values\n",
    "train_val2_X = (train_val2_X - np.min(train_val2_X)) / (np.max(train_val2_X) - np.min(train_val2_X)).values\n",
    "train_val3_X = (train_val3_X - np.min(train_val3_X)) / (np.max(train_val3_X) - np.min(train_val3_X)).values\n",
    "train_val4_X = (train_val4_X - np.min(train_val4_X)) / (np.max(train_val4_X) - np.min(train_val4_X)).values\n",
    "train_val5_X = (train_val5_X - np.min(train_val5_X)) / (np.max(train_val5_X) - np.min(train_val5_X)).values"
   ]
  },
  {
   "cell_type": "code",
   "execution_count": 38,
   "id": "925fc4ae",
   "metadata": {},
   "outputs": [],
   "source": [
    "#Normalizing the testing datasets for each fold\n",
    "\n",
    "test_val1_X = (test_val1_X - np.min(test_val1_X)) / (np.max(test_val1_X) - np.min(test_val1_X)).values\n",
    "test_val2_X = (test_val2_X - np.min(test_val2_X)) / (np.max(test_val2_X) - np.min(test_val2_X)).values\n",
    "test_val3_X = (test_val3_X - np.min(test_val3_X)) / (np.max(test_val3_X) - np.min(test_val3_X)).values\n",
    "test_val4_X = (test_val4_X - np.min(test_val4_X)) / (np.max(test_val4_X) - np.min(test_val4_X)).values\n",
    "test_val5_X = (test_val5_X - np.min(test_val5_X)) / (np.max(test_val5_X) - np.min(test_val5_X)).values"
   ]
  },
  {
   "cell_type": "markdown",
   "id": "218156d4",
   "metadata": {},
   "source": [
    "Reshaping the Matrices (in all 5 folds) for calculation purpose:"
   ]
  },
  {
   "cell_type": "code",
   "execution_count": 39,
   "id": "0c2c7432",
   "metadata": {},
   "outputs": [],
   "source": [
    "train_val1_X = train_val1_X.T\n",
    "train_val1_Y = train_val1_Y.T\n",
    "test_val1_X = test_val1_X.T\n",
    "test_val1_Y = test_val1_Y.T"
   ]
  },
  {
   "cell_type": "code",
   "execution_count": 40,
   "id": "5ee904d0",
   "metadata": {},
   "outputs": [
    {
     "name": "stdout",
     "output_type": "stream",
     "text": [
      "Shape of train_val1_X :  (20, 735)\n",
      "Shape of train_val1_Y :  (735,)\n",
      "Shape of test_val1_X :  (20, 183)\n",
      "Shape of test_val1_Y :  (183,)\n"
     ]
    }
   ],
   "source": [
    "print(\"Shape of train_val1_X : \", train_val1_X.shape) #(20, 735)\n",
    "print(\"Shape of train_val1_Y : \", train_val1_Y.shape) #(735,)\n",
    "print(\"Shape of test_val1_X : \", test_val1_X.shape)   #(20, 735)\n",
    "print(\"Shape of test_val1_Y : \", test_val1_Y.shape)   #(183,)"
   ]
  },
  {
   "cell_type": "code",
   "execution_count": 41,
   "id": "835075f2",
   "metadata": {},
   "outputs": [],
   "source": [
    "train_val2_X = train_val2_X.T\n",
    "train_val2_Y = train_val2_Y.T\n",
    "test_val2_X = test_val2_X.T\n",
    "test_val2_Y = test_val2_Y.T"
   ]
  },
  {
   "cell_type": "code",
   "execution_count": 42,
   "id": "44afca56",
   "metadata": {},
   "outputs": [
    {
     "name": "stdout",
     "output_type": "stream",
     "text": [
      "Shape of train_val2_X :  (20, 735)\n",
      "Shape of train_val2_Y :  (735,)\n",
      "Shape of test_val2_X :  (20, 183)\n",
      "Shape of test_val2_Y :  (183,)\n"
     ]
    }
   ],
   "source": [
    "print(\"Shape of train_val2_X : \", train_val2_X.shape)\n",
    "print(\"Shape of train_val2_Y : \", train_val2_Y.shape)\n",
    "print(\"Shape of test_val2_X : \", test_val2_X.shape)\n",
    "print(\"Shape of test_val2_Y : \", test_val2_Y.shape)"
   ]
  },
  {
   "cell_type": "code",
   "execution_count": 43,
   "id": "c0618360",
   "metadata": {},
   "outputs": [],
   "source": [
    "train_val3_X = train_val3_X.T\n",
    "train_val3_Y = train_val3_Y.T\n",
    "test_val3_X = test_val3_X.T\n",
    "test_val3_Y = test_val3_Y.T"
   ]
  },
  {
   "cell_type": "code",
   "execution_count": 44,
   "id": "952bfcd7",
   "metadata": {},
   "outputs": [
    {
     "name": "stdout",
     "output_type": "stream",
     "text": [
      "Shape of train_val3_X :  (20, 734)\n",
      "Shape of train_val3_Y :  (734,)\n",
      "Shape of test_val3_X :  (20, 184)\n",
      "Shape of test_val3_Y :  (184,)\n"
     ]
    }
   ],
   "source": [
    "print(\"Shape of train_val3_X : \", train_val3_X.shape)\n",
    "print(\"Shape of train_val3_Y : \", train_val3_Y.shape)\n",
    "print(\"Shape of test_val3_X : \", test_val3_X.shape)\n",
    "print(\"Shape of test_val3_Y : \", test_val3_Y.shape)"
   ]
  },
  {
   "cell_type": "code",
   "execution_count": 45,
   "id": "5eb2ff1d",
   "metadata": {},
   "outputs": [],
   "source": [
    "train_val4_X = train_val4_X.T\n",
    "train_val4_Y = train_val4_Y.T\n",
    "test_val4_X = test_val4_X.T\n",
    "test_val4_Y = test_val4_Y.T"
   ]
  },
  {
   "cell_type": "code",
   "execution_count": 46,
   "id": "a82ad3a4",
   "metadata": {},
   "outputs": [
    {
     "name": "stdout",
     "output_type": "stream",
     "text": [
      "Shape of train_val4_X :  (20, 734)\n",
      "Shape of train_val4_Y :  (734,)\n",
      "Shape of test_val4_X :  (20, 184)\n",
      "Shape of test_val4_Y :  (184,)\n"
     ]
    }
   ],
   "source": [
    "print(\"Shape of train_val4_X : \", train_val4_X.shape)\n",
    "print(\"Shape of train_val4_Y : \", train_val4_Y.shape)\n",
    "print(\"Shape of test_val4_X : \", test_val4_X.shape)\n",
    "print(\"Shape of test_val4_Y : \", test_val4_Y.shape)"
   ]
  },
  {
   "cell_type": "code",
   "execution_count": 47,
   "id": "323abbaa",
   "metadata": {},
   "outputs": [],
   "source": [
    "train_val5_X = train_val5_X.T\n",
    "train_val5_Y = train_val5_Y.T\n",
    "test_val5_X = test_val5_X.T\n",
    "test_val5_Y = test_val5_Y.T"
   ]
  },
  {
   "cell_type": "code",
   "execution_count": 48,
   "id": "47af779b",
   "metadata": {},
   "outputs": [
    {
     "name": "stdout",
     "output_type": "stream",
     "text": [
      "Shape of train_val5_X :  (20, 734)\n",
      "Shape of train_val5_Y :  (734,)\n",
      "Shape of test_val5_X :  (20, 184)\n",
      "Shape of test_val5_Y :  (184,)\n"
     ]
    }
   ],
   "source": [
    "print(\"Shape of train_val5_X : \", train_val5_X.shape)\n",
    "print(\"Shape of train_val5_Y : \", train_val5_Y.shape)\n",
    "print(\"Shape of test_val5_X : \", test_val5_X.shape)\n",
    "print(\"Shape of test_val5_Y : \", test_val5_Y.shape)"
   ]
  },
  {
   "cell_type": "code",
   "execution_count": null,
   "id": "7746d932",
   "metadata": {},
   "outputs": [],
   "source": []
  },
  {
   "cell_type": "markdown",
   "id": "54a82fe3",
   "metadata": {},
   "source": [
    "## 06. The Average Accuracy using the 5 Fold CV\n",
    "\n",
    "here the learning rate is chosen to be 0.0005 and the iteration number is 100000"
   ]
  },
  {
   "cell_type": "code",
   "execution_count": 49,
   "id": "d01b50ee",
   "metadata": {},
   "outputs": [
    {
     "name": "stdout",
     "output_type": "stream",
     "text": [
      "cost after  0 iteration is :  0.6931471805599453\n",
      "cost after  10000 iteration is :  0.4367658316137425\n",
      "cost after  20000 iteration is :  0.38134686642893656\n",
      "cost after  30000 iteration is :  0.3602824890723196\n",
      "cost after  40000 iteration is :  0.3497235095007955\n",
      "cost after  50000 iteration is :  0.34349048661621906\n",
      "cost after  60000 iteration is :  0.3393964903794951\n",
      "cost after  70000 iteration is :  0.33650122666259\n",
      "cost after  80000 iteration is :  0.3343417887423662\n",
      "cost after  90000 iteration is :  0.33266598191695673\n"
     ]
    },
    {
     "data": {
      "image/png": "[encoded data removed]",
      "text/plain": [
       "<Figure size 432x288 with 1 Axes>"
      ]
     },
     "metadata": {
      "needs_background": "light"
     },
     "output_type": "display_data"
    },
    {
     "name": "stdout",
     "output_type": "stream",
     "text": [
      "Test Accuracy:  85.792 %\n",
      "cost after  0 iteration is :  0.6931471805599453\n",
      "cost after  10000 iteration is :  0.4451902490222102\n",
      "cost after  20000 iteration is :  0.39302691779815646\n",
      "cost after  30000 iteration is :  0.37372255759680634\n",
      "cost after  40000 iteration is :  0.3641848848086114\n",
      "cost after  50000 iteration is :  0.35858120904357255\n",
      "cost after  60000 iteration is :  0.35489639830808883\n",
      "cost after  70000 iteration is :  0.3522822073264733\n",
      "cost after  80000 iteration is :  0.35032766731404985\n",
      "cost after  90000 iteration is :  0.3488108310270993\n"
     ]
    },
    {
     "data": {
      "image/png": "[encoded data removed]",
      "text/plain": [
       "<Figure size 432x288 with 1 Axes>"
      ]
     },
     "metadata": {
      "needs_background": "light"
     },
     "output_type": "display_data"
    },
    {
     "name": "stdout",
     "output_type": "stream",
     "text": [
      "Test Accuracy:  89.617 %\n",
      "cost after  0 iteration is :  0.6931471805599453\n",
      "cost after  10000 iteration is :  0.4325329126934576\n",
      "cost after  20000 iteration is :  0.3759229093935751\n",
      "cost after  30000 iteration is :  0.35423227075103214\n",
      "cost after  40000 iteration is :  0.3433136009218215\n",
      "cost after  50000 iteration is :  0.33686175514695693\n",
      "cost after  60000 iteration is :  0.3326304965123082\n",
      "cost after  70000 iteration is :  0.3296481752870197\n",
      "cost after  80000 iteration is :  0.3274338799193293\n",
      "cost after  90000 iteration is :  0.3257244524469865\n"
     ]
    },
    {
     "data": {
      "image/png": "[encoded data removed]",
      "text/plain": [
       "<Figure size 432x288 with 1 Axes>"
      ]
     },
     "metadata": {
      "needs_background": "light"
     },
     "output_type": "display_data"
    },
    {
     "name": "stdout",
     "output_type": "stream",
     "text": [
      "Test Accuracy:  85.87 %\n",
      "cost after  0 iteration is :  0.6931471805599453\n",
      "cost after  10000 iteration is :  0.4435682338959823\n",
      "cost after  20000 iteration is :  0.38961849493555917\n",
      "cost after  30000 iteration is :  0.36933019852414933\n",
      "cost after  40000 iteration is :  0.35927002488905163\n",
      "cost after  50000 iteration is :  0.35338468189117844\n",
      "cost after  60000 iteration is :  0.3495435969725502\n",
      "cost after  70000 iteration is :  0.3468374860726042\n",
      "cost after  80000 iteration is :  0.3448224381158366\n",
      "cost after  90000 iteration is :  0.34325858293574824\n"
     ]
    },
    {
     "data": {
      "image/png": "[encoded data removed]",
      "text/plain": [
       "<Figure size 432x288 with 1 Axes>"
      ]
     },
     "metadata": {
      "needs_background": "light"
     },
     "output_type": "display_data"
    },
    {
     "name": "stdout",
     "output_type": "stream",
     "text": [
      "Test Accuracy:  85.326 %\n",
      "cost after  0 iteration is :  0.6931471805599453\n",
      "cost after  10000 iteration is :  0.44212853429759646\n",
      "cost after  20000 iteration is :  0.3875512552234702\n",
      "cost after  30000 iteration is :  0.3667560566987437\n",
      "cost after  40000 iteration is :  0.3562767305297351\n",
      "cost after  50000 iteration is :  0.35006127854121505\n",
      "cost after  60000 iteration is :  0.34596995227066185\n",
      "cost after  70000 iteration is :  0.34307981311431845\n",
      "cost after  80000 iteration is :  0.34093323273369086\n",
      "cost after  90000 iteration is :  0.3392783602259203\n"
     ]
    },
    {
     "data": {
      "image/png": "[encoded data removed]",
      "text/plain": [
       "<Figure size 432x288 with 1 Axes>"
      ]
     },
     "metadata": {
      "needs_background": "light"
     },
     "output_type": "display_data"
    },
    {
     "name": "stdout",
     "output_type": "stream",
     "text": [
      "Test Accuracy:  86.413 %\n",
      "The average Accuracy using the 5 fold cross validation is:  86.604\n"
     ]
    }
   ],
   "source": [
    "y_prediction_1, accuracy_fold1 = logistic_model(train_val1_X, train_val1_Y, test_val1_X, test_val1_Y, learning_rate = 0.0005, iterations = 100000)\n",
    "y_prediction_2, accuracy_fold2 = logistic_model(train_val2_X, train_val2_Y, test_val2_X, test_val2_Y, learning_rate = 0.0005, iterations = 100000)\n",
    "y_prediction_3, accuracy_fold3 = logistic_model(train_val3_X, train_val3_Y, test_val3_X, test_val3_Y, learning_rate = 0.0005, iterations = 100000)\n",
    "y_prediction_4, accuracy_fold4 = logistic_model(train_val4_X, train_val4_Y, test_val4_X, test_val4_Y, learning_rate = 0.0005, iterations = 100000)\n",
    "y_prediction_5, accuracy_fold5 = logistic_model(train_val5_X, train_val5_Y, test_val5_X, test_val5_Y, learning_rate = 0.0005, iterations = 100000)\n",
    "\n",
    "cv_accuracy = [accuracy_fold1, accuracy_fold2, accuracy_fold3, accuracy_fold4, accuracy_fold5]\n",
    "print(\"The average Accuracy using the 5 fold cross validation is: \",np.round(np.mean(cv_accuracy), 3))"
   ]
  },
  {
   "cell_type": "markdown",
   "id": "f628e6b6",
   "metadata": {},
   "source": [
    "The average Accuracy using the 5 fold cross validation is:  86.6%"
   ]
  },
  {
   "cell_type": "code",
   "execution_count": null,
   "id": "b55be748",
   "metadata": {},
   "outputs": [],
   "source": []
  },
  {
   "cell_type": "markdown",
   "id": "72f19207",
   "metadata": {},
   "source": [
    "### The next step to is test different hyperparameters (Learning Rate and Iteration number for each fold)"
   ]
  },
  {
   "cell_type": "markdown",
   "id": "fdf28af9",
   "metadata": {},
   "source": [
    "#### Testing different Learning Rates"
   ]
  },
  {
   "cell_type": "code",
   "execution_count": 50,
   "id": "48721f7e",
   "metadata": {
    "scrolled": true
   },
   "outputs": [
    {
     "name": "stdout",
     "output_type": "stream",
     "text": [
      "learning rate is:  0.0001\n",
      "cost after  0 iteration is :  0.6931471805599453\n",
      "cost after  10000 iteration is :  0.5932381983296094\n",
      "cost after  20000 iteration is :  0.5315230029314064\n",
      "cost after  30000 iteration is :  0.4892186656575902\n",
      "cost after  40000 iteration is :  0.45901551772176696\n",
      "cost after  50000 iteration is :  0.4367691344888412\n",
      "cost after  60000 iteration is :  0.4199281295496498\n",
      "cost after  70000 iteration is :  0.4068685354494566\n",
      "cost after  80000 iteration is :  0.3965263893329645\n",
      "cost after  90000 iteration is :  0.38818493291525186\n"
     ]
    },
    {
     "data": {
      "image/png": "[encoded data removed]",
      "text/plain": [
       "<Figure size 432x288 with 1 Axes>"
      ]
     },
     "metadata": {
      "needs_background": "light"
     },
     "output_type": "display_data"
    },
    {
     "name": "stdout",
     "output_type": "stream",
     "text": [
      "Test Accuracy:  84.153 %\n",
      "-------------------------------------------------------------------------------------\n",
      "learning rate is:  0.0005\n",
      "cost after  0 iteration is :  0.6931471805599453\n",
      "cost after  10000 iteration is :  0.4367658316137425\n",
      "cost after  20000 iteration is :  0.38134686642893656\n",
      "cost after  30000 iteration is :  0.3602824890723196\n",
      "cost after  40000 iteration is :  0.3497235095007955\n",
      "cost after  50000 iteration is :  0.34349048661621906\n",
      "cost after  60000 iteration is :  0.3393964903794951\n",
      "cost after  70000 iteration is :  0.33650122666259\n",
      "cost after  80000 iteration is :  0.3343417887423662\n",
      "cost after  90000 iteration is :  0.33266598191695673\n"
     ]
    },
    {
     "data": {
      "image/png": "[encoded data removed]",
      "text/plain": [
       "<Figure size 432x288 with 1 Axes>"
      ]
     },
     "metadata": {
      "needs_background": "light"
     },
     "output_type": "display_data"
    },
    {
     "name": "stdout",
     "output_type": "stream",
     "text": [
      "Test Accuracy:  85.792 %\n",
      "-------------------------------------------------------------------------------------\n",
      "learning rate is:  0.001\n",
      "cost after  0 iteration is :  0.6931471805599453\n",
      "cost after  10000 iteration is :  0.38134477711519166\n",
      "cost after  20000 iteration is :  0.349722828538967\n",
      "cost after  30000 iteration is :  0.3393961859119562\n",
      "cost after  40000 iteration is :  0.33434162241205334\n",
      "cost after  50000 iteration is :  0.33132498192731646\n",
      "cost after  60000 iteration is :  0.32930591844209534\n",
      "cost after  70000 iteration is :  0.3278478881581701\n",
      "cost after  80000 iteration is :  0.32673452401039205\n",
      "cost after  90000 iteration is :  0.3258464079278274\n"
     ]
    },
    {
     "data": {
      "image/png": "[encoded data removed]",
      "text/plain": [
       "<Figure size 432x288 with 1 Axes>"
      ]
     },
     "metadata": {
      "needs_background": "light"
     },
     "output_type": "display_data"
    },
    {
     "name": "stdout",
     "output_type": "stream",
     "text": [
      "Test Accuracy:  85.792 %\n",
      "-------------------------------------------------------------------------------------\n",
      "learning rate is:  0.01\n",
      "cost after  0 iteration is :  0.6931471805599453\n",
      "cost after  10000 iteration is :  0.3251123111790541\n",
      "cost after  20000 iteration is :  0.3210745972838372\n",
      "cost after  30000 iteration is :  0.31903374475399776\n",
      "cost after  40000 iteration is :  0.31775753139889235\n",
      "cost after  50000 iteration is :  0.31690728159593684\n",
      "cost after  60000 iteration is :  0.31631542636316634\n",
      "cost after  70000 iteration is :  0.31588834969958635\n",
      "cost after  80000 iteration is :  0.3155708157589473\n",
      "cost after  90000 iteration is :  0.3153288146976606\n"
     ]
    },
    {
     "data": {
      "image/png": "[encoded data removed]",
      "text/plain": [
       "<Figure size 432x288 with 1 Axes>"
      ]
     },
     "metadata": {
      "needs_background": "light"
     },
     "output_type": "display_data"
    },
    {
     "name": "stdout",
     "output_type": "stream",
     "text": [
      "Test Accuracy:  85.792 %\n",
      "-------------------------------------------------------------------------------------\n",
      "Average Accuracy is:  85.38251366120218\n"
     ]
    }
   ],
   "source": [
    "learning_rates = [0.0001, 0.0005, 0.001, 0.01] \n",
    "Y_pred_cv1 = {}\n",
    "accuracy1 = []\n",
    "\n",
    "for i in learning_rates:\n",
    "    print (\"learning rate is: \",i)\n",
    "    Y_pred_cv1[i], acc1 = logistic_model(train_val1_X, train_val1_Y, test_val1_X, test_val1_Y, learning_rate = i, iterations = 100000)\n",
    "    accuracy1.append(acc1)\n",
    "    print(\"-------------------------------------------------------------------------------------\")\n",
    "\n",
    "print(\"Average Accuracy is: \", np.mean(accuracy1))"
   ]
  },
  {
   "cell_type": "code",
   "execution_count": 51,
   "id": "abee12b0",
   "metadata": {},
   "outputs": [
    {
     "data": {
      "text/plain": [
       "[84.15300546448087, 85.79234972677595, 85.79234972677595, 85.79234972677595]"
      ]
     },
     "execution_count": 51,
     "metadata": {},
     "output_type": "execute_result"
    }
   ],
   "source": [
    "accuracy1"
   ]
  },
  {
   "cell_type": "code",
   "execution_count": 52,
   "id": "b12dceec",
   "metadata": {},
   "outputs": [
    {
     "name": "stdout",
     "output_type": "stream",
     "text": [
      "learning rate is:  0.0001\n",
      "cost after  0 iteration is :  0.6931471805599453\n",
      "cost after  10000 iteration is :  0.5971535266289593\n",
      "cost after  20000 iteration is :  0.5367958349807667\n",
      "cost after  30000 iteration is :  0.4956463743610166\n",
      "cost after  40000 iteration is :  0.46649812018234393\n",
      "cost after  50000 iteration is :  0.44519345433374147\n",
      "cost after  60000 iteration is :  0.42918240870413016\n",
      "cost after  70000 iteration is :  0.41685122231070026\n",
      "cost after  80000 iteration is :  0.40714837710188084\n",
      "cost after  90000 iteration is :  0.39936911262994973\n"
     ]
    },
    {
     "data": {
      "image/png": "[encoded data removed]",
      "text/plain": [
       "<Figure size 432x288 with 1 Axes>"
      ]
     },
     "metadata": {
      "needs_background": "light"
     },
     "output_type": "display_data"
    },
    {
     "name": "stdout",
     "output_type": "stream",
     "text": [
      "Test Accuracy:  87.978 %\n",
      "-------------------------------------------------------------------------------------\n",
      "learning rate is:  0.0005\n",
      "cost after  0 iteration is :  0.6931471805599453\n",
      "cost after  10000 iteration is :  0.4451902490222102\n",
      "cost after  20000 iteration is :  0.39302691779815646\n",
      "cost after  30000 iteration is :  0.37372255759680634\n",
      "cost after  40000 iteration is :  0.3641848848086114\n",
      "cost after  50000 iteration is :  0.35858120904357255\n",
      "cost after  60000 iteration is :  0.35489639830808883\n",
      "cost after  70000 iteration is :  0.3522822073264733\n",
      "cost after  80000 iteration is :  0.35032766731404985\n",
      "cost after  90000 iteration is :  0.3488108310270993\n"
     ]
    },
    {
     "data": {
      "image/png": "[encoded data removed]",
      "text/plain": [
       "<Figure size 432x288 with 1 Axes>"
      ]
     },
     "metadata": {
      "needs_background": "light"
     },
     "output_type": "display_data"
    },
    {
     "name": "stdout",
     "output_type": "stream",
     "text": [
      "Test Accuracy:  89.617 %\n",
      "-------------------------------------------------------------------------------------\n",
      "learning rate is:  0.001\n",
      "cost after  0 iteration is :  0.6931471805599453\n",
      "cost after  10000 iteration is :  0.39302496486293254\n",
      "cost after  20000 iteration is :  0.3641842843181588\n",
      "cost after  30000 iteration is :  0.3548961350085376\n",
      "cost after  40000 iteration is :  0.35032752154853597\n",
      "cost after  50000 iteration is :  0.34760082146446236\n",
      "cost after  60000 iteration is :  0.3457983736341838\n",
      "cost after  70000 iteration is :  0.34452749937028493\n",
      "cost after  80000 iteration is :  0.34358728984219866\n",
      "cost after  90000 iteration is :  0.3428634289352504\n"
     ]
    },
    {
     "data": {
      "image/png": "[encoded data removed]",
      "text/plain": [
       "<Figure size 432x288 with 1 Axes>"
      ]
     },
     "metadata": {
      "needs_background": "light"
     },
     "output_type": "display_data"
    },
    {
     "name": "stdout",
     "output_type": "stream",
     "text": [
      "Test Accuracy:  89.071 %\n",
      "-------------------------------------------------------------------------------------\n",
      "learning rate is:  0.01\n",
      "cost after  0 iteration is :  0.6931471805599453\n",
      "cost after  10000 iteration is :  0.34228614785875416\n",
      "cost after  20000 iteration is :  0.3394282334796107\n",
      "cost after  30000 iteration is :  0.3380384014273086\n",
      "cost after  40000 iteration is :  0.3371360827455435\n",
      "cost after  50000 iteration is :  0.3365162660613062\n",
      "cost after  60000 iteration is :  0.3360765501305418\n",
      "cost after  70000 iteration is :  0.3357566878419156\n",
      "cost after  80000 iteration is :  0.3355193096070306\n",
      "cost after  90000 iteration is :  0.3353403089110316\n"
     ]
    },
    {
     "data": {
      "image/png": "[encoded data removed]",
      "text/plain": [
       "<Figure size 432x288 with 1 Axes>"
      ]
     },
     "metadata": {
      "needs_background": "light"
     },
     "output_type": "display_data"
    },
    {
     "name": "stdout",
     "output_type": "stream",
     "text": [
      "Test Accuracy:  86.885 %\n",
      "-------------------------------------------------------------------------------------\n",
      "Average Accuracy is:  88.3879781420765\n"
     ]
    }
   ],
   "source": [
    "learning_rates = [0.0001, 0.0005, 0.001, 0.01] \n",
    "Y_pred_cv2 = {}\n",
    "accuracy2 = []\n",
    "for i in learning_rates:\n",
    "    print (\"learning rate is: \",i)\n",
    "    Y_pred_cv2[i], acc2 = logistic_model(train_val2_X, train_val2_Y, test_val2_X, test_val2_Y, learning_rate = i, iterations = 100000)\n",
    "    accuracy2.append(acc2)\n",
    "    print(\"-------------------------------------------------------------------------------------\")\n",
    "    \n",
    "print(\"Average Accuracy is: \", np.mean(accuracy2))"
   ]
  },
  {
   "cell_type": "code",
   "execution_count": 53,
   "id": "67943432",
   "metadata": {},
   "outputs": [
    {
     "data": {
      "text/plain": [
       "[87.97814207650273, 89.61748633879782, 89.07103825136612, 86.88524590163934]"
      ]
     },
     "execution_count": 53,
     "metadata": {},
     "output_type": "execute_result"
    }
   ],
   "source": [
    "accuracy2"
   ]
  },
  {
   "cell_type": "code",
   "execution_count": 54,
   "id": "694a09eb",
   "metadata": {},
   "outputs": [
    {
     "name": "stdout",
     "output_type": "stream",
     "text": [
      "learning rate is:  0.0001\n",
      "cost after  0 iteration is :  0.6931471805599453\n",
      "cost after  10000 iteration is :  0.5907841913604494\n",
      "cost after  20000 iteration is :  0.5284797062094801\n",
      "cost after  30000 iteration is :  0.4857353250802798\n",
      "cost after  40000 iteration is :  0.4551350173456262\n",
      "cost after  50000 iteration is :  0.43253624463164964\n",
      "cost after  60000 iteration is :  0.41538722558867214\n",
      "cost after  70000 iteration is :  0.40205970337868735\n",
      "cost after  80000 iteration is :  0.3914843758165536\n",
      "cost after  90000 iteration is :  0.3829393778901258\n"
     ]
    },
    {
     "data": {
      "image/png": "[encoded data removed]",
      "text/plain": [
       "<Figure size 432x288 with 1 Axes>"
      ]
     },
     "metadata": {
      "needs_background": "light"
     },
     "output_type": "display_data"
    },
    {
     "name": "stdout",
     "output_type": "stream",
     "text": [
      "Test Accuracy:  87.5 %\n",
      "-------------------------------------------------------------------------------------\n",
      "learning rate is:  0.0005\n",
      "cost after  0 iteration is :  0.6931471805599453\n",
      "cost after  10000 iteration is :  0.4325329126934576\n",
      "cost after  20000 iteration is :  0.3759229093935751\n",
      "cost after  30000 iteration is :  0.35423227075103214\n",
      "cost after  40000 iteration is :  0.3433136009218215\n",
      "cost after  50000 iteration is :  0.33686175514695693\n",
      "cost after  60000 iteration is :  0.3326304965123082\n",
      "cost after  70000 iteration is :  0.3296481752870197\n",
      "cost after  80000 iteration is :  0.3274338799193293\n",
      "cost after  90000 iteration is :  0.3257244524469865\n"
     ]
    },
    {
     "data": {
      "image/png": "[encoded data removed]",
      "text/plain": [
       "<Figure size 432x288 with 1 Axes>"
      ]
     },
     "metadata": {
      "needs_background": "light"
     },
     "output_type": "display_data"
    },
    {
     "name": "stdout",
     "output_type": "stream",
     "text": [
      "Test Accuracy:  85.87 %\n",
      "-------------------------------------------------------------------------------------\n",
      "learning rate is:  0.001\n",
      "cost after  0 iteration is :  0.6931471805599453\n",
      "cost after  10000 iteration is :  0.3759207807192099\n",
      "cost after  20000 iteration is :  0.3433128951013363\n",
      "cost after  30000 iteration is :  0.3326301771950427\n",
      "cost after  40000 iteration is :  0.3274337046821194\n",
      "cost after  50000 iteration is :  0.3243641008518695\n",
      "cost after  60000 iteration is :  0.3223324483449474\n",
      "cost after  70000 iteration is :  0.32088087165346774\n",
      "cost after  80000 iteration is :  0.3197830763732742\n",
      "cost after  90000 iteration is :  0.31891495198597253\n"
     ]
    },
    {
     "data": {
      "image/png": "[encoded data removed]",
      "text/plain": [
       "<Figure size 432x288 with 1 Axes>"
      ]
     },
     "metadata": {
      "needs_background": "light"
     },
     "output_type": "display_data"
    },
    {
     "name": "stdout",
     "output_type": "stream",
     "text": [
      "Test Accuracy:  85.87 %\n",
      "-------------------------------------------------------------------------------------\n",
      "learning rate is:  0.01\n",
      "cost after  0 iteration is :  0.6931471805599453\n",
      "cost after  10000 iteration is :  0.3182030808053279\n",
      "cost after  20000 iteration is :  0.31443098651888346\n",
      "cost after  30000 iteration is :  0.31265676278253\n",
      "cost after  40000 iteration is :  0.31156753335138127\n",
      "cost after  50000 iteration is :  0.310822278293286\n",
      "cost after  60000 iteration is :  0.31027824505893414\n",
      "cost after  70000 iteration is :  0.3098646658863456\n",
      "cost after  80000 iteration is :  0.30954201428662725\n",
      "cost after  90000 iteration is :  0.30928600611906365\n"
     ]
    },
    {
     "data": {
      "image/png": "[encoded data removed]",
      "text/plain": [
       "<Figure size 432x288 with 1 Axes>"
      ]
     },
     "metadata": {
      "needs_background": "light"
     },
     "output_type": "display_data"
    },
    {
     "name": "stdout",
     "output_type": "stream",
     "text": [
      "Test Accuracy:  80.978 %\n",
      "-------------------------------------------------------------------------------------\n",
      "Average Accuracy is:  85.05434782608697\n"
     ]
    }
   ],
   "source": [
    "learning_rates = [0.0001, 0.0005, 0.001, 0.01] \n",
    "Y_pred_cv3 = {}\n",
    "accuracy3 = []\n",
    "for i in learning_rates:\n",
    "    print (\"learning rate is: \",i)\n",
    "    Y_pred_cv3[i], acc3 = logistic_model(train_val3_X, train_val3_Y, test_val3_X, test_val3_Y, learning_rate = i, iterations = 100000)\n",
    "    accuracy3.append(acc3)\n",
    "    print(\"-------------------------------------------------------------------------------------\")\n",
    "    \n",
    "print(\"Average Accuracy is: \", np.mean(accuracy3))    "
   ]
  },
  {
   "cell_type": "code",
   "execution_count": 55,
   "id": "eeb95344",
   "metadata": {},
   "outputs": [
    {
     "data": {
      "text/plain": [
       "[87.5, 85.86956521739131, 85.86956521739131, 80.97826086956522]"
      ]
     },
     "execution_count": 55,
     "metadata": {},
     "output_type": "execute_result"
    }
   ],
   "source": [
    "accuracy3"
   ]
  },
  {
   "cell_type": "code",
   "execution_count": 56,
   "id": "19e46529",
   "metadata": {
    "scrolled": true
   },
   "outputs": [
    {
     "name": "stdout",
     "output_type": "stream",
     "text": [
      "learning rate is:  0.0001\n",
      "cost after  0 iteration is :  0.6931471805599453\n",
      "cost after  10000 iteration is :  0.5968219053115619\n",
      "cost after  20000 iteration is :  0.5363725431520417\n",
      "cost after  30000 iteration is :  0.49490036016829353\n",
      "cost after  40000 iteration is :  0.4653245843013784\n",
      "cost after  50000 iteration is :  0.4435714493661891\n",
      "cost after  60000 iteration is :  0.4271299205267734\n",
      "cost after  70000 iteration is :  0.4144021583432131\n",
      "cost after  80000 iteration is :  0.404341606076033\n",
      "cost after  90000 iteration is :  0.39624336714019665\n"
     ]
    },
    {
     "data": {
      "image/png": "[encoded data removed]",
      "text/plain": [
       "<Figure size 432x288 with 1 Axes>"
      ]
     },
     "metadata": {
      "needs_background": "light"
     },
     "output_type": "display_data"
    },
    {
     "name": "stdout",
     "output_type": "stream",
     "text": [
      "Test Accuracy:  83.696 %\n",
      "-------------------------------------------------------------------------------------\n",
      "learning rate is:  0.0005\n",
      "cost after  0 iteration is :  0.6931471805599453\n",
      "cost after  10000 iteration is :  0.4435682338959823\n",
      "cost after  20000 iteration is :  0.38961849493555917\n",
      "cost after  30000 iteration is :  0.36933019852414933\n",
      "cost after  40000 iteration is :  0.35927002488905163\n",
      "cost after  50000 iteration is :  0.35338468189117844\n",
      "cost after  60000 iteration is :  0.3495435969725502\n",
      "cost after  70000 iteration is :  0.3468374860726042\n",
      "cost after  80000 iteration is :  0.3448224381158366\n",
      "cost after  90000 iteration is :  0.34325858293574824\n"
     ]
    },
    {
     "data": {
      "image/png": "[encoded data removed]",
      "text/plain": [
       "<Figure size 432x288 with 1 Axes>"
      ]
     },
     "metadata": {
      "needs_background": "light"
     },
     "output_type": "display_data"
    },
    {
     "name": "stdout",
     "output_type": "stream",
     "text": [
      "Test Accuracy:  85.326 %\n",
      "-------------------------------------------------------------------------------------\n",
      "learning rate is:  0.001\n",
      "cost after  0 iteration is :  0.6931471805599453\n",
      "cost after  10000 iteration is :  0.3896164899217966\n",
      "cost after  20000 iteration is :  0.3592693916147228\n",
      "cost after  30000 iteration is :  0.34954332087400747\n",
      "cost after  40000 iteration is :  0.3448222896504704\n",
      "cost after  50000 iteration is :  0.34200539141250713\n",
      "cost after  60000 iteration is :  0.3401106481640398\n",
      "cost after  70000 iteration is :  0.3387303401353297\n",
      "cost after  80000 iteration is :  0.33766386786048347\n",
      "cost after  90000 iteration is :  0.3368013553764756\n"
     ]
    },
    {
     "data": {
      "image/png": "[encoded data removed]",
      "text/plain": [
       "<Figure size 432x288 with 1 Axes>"
      ]
     },
     "metadata": {
      "needs_background": "light"
     },
     "output_type": "display_data"
    },
    {
     "name": "stdout",
     "output_type": "stream",
     "text": [
      "Test Accuracy:  85.326 %\n",
      "-------------------------------------------------------------------------------------\n",
      "learning rate is:  0.01\n",
      "cost after  0 iteration is :  0.6931471805599453\n",
      "cost after  10000 iteration is :  0.3360779102991479\n",
      "cost after  20000 iteration is :  0.3318914269733281\n",
      "cost after  30000 iteration is :  0.3297082972137246\n",
      "cost after  40000 iteration is :  0.3283416284129209\n",
      "cost after  50000 iteration is :  0.3274193826455743\n",
      "cost after  60000 iteration is :  0.32676238659493184\n",
      "cost after  70000 iteration is :  0.32627517887794755\n",
      "cost after  80000 iteration is :  0.32590310474009343\n",
      "cost after  90000 iteration is :  0.32561278319391973\n"
     ]
    },
    {
     "data": {
      "image/png": "[encoded data removed]",
      "text/plain": [
       "<Figure size 432x288 with 1 Axes>"
      ]
     },
     "metadata": {
      "needs_background": "light"
     },
     "output_type": "display_data"
    },
    {
     "name": "stdout",
     "output_type": "stream",
     "text": [
      "Test Accuracy:  85.87 %\n",
      "-------------------------------------------------------------------------------------\n",
      "Average Accuracy is:  85.05434782608695\n"
     ]
    }
   ],
   "source": [
    "learning_rates = [0.0001, 0.0005, 0.001, 0.01] \n",
    "Y_pred_cv4 = {}\n",
    "accuracy4 = []\n",
    "for i in learning_rates:\n",
    "    print (\"learning rate is: \",i)\n",
    "    Y_pred_cv4[i], acc4 = logistic_model(train_val4_X, train_val4_Y, test_val4_X, test_val4_Y, learning_rate = i, iterations = 100000)\n",
    "    accuracy4.append(acc4)\n",
    "    print(\"-------------------------------------------------------------------------------------\")\n",
    "    \n",
    "print(\"Average Accuracy is: \", np.mean(accuracy4))"
   ]
  },
  {
   "cell_type": "code",
   "execution_count": 57,
   "id": "5dcc9bda",
   "metadata": {},
   "outputs": [
    {
     "data": {
      "text/plain": [
       "[83.69565217391305, 85.32608695652173, 85.32608695652173, 85.86956521739131]"
      ]
     },
     "execution_count": 57,
     "metadata": {},
     "output_type": "execute_result"
    }
   ],
   "source": [
    "accuracy4"
   ]
  },
  {
   "cell_type": "code",
   "execution_count": 58,
   "id": "02c294a8",
   "metadata": {},
   "outputs": [
    {
     "name": "stdout",
     "output_type": "stream",
     "text": [
      "learning rate is:  0.0001\n",
      "cost after  0 iteration is :  0.6931471805599453\n",
      "cost after  10000 iteration is :  0.5966209725483446\n",
      "cost after  20000 iteration is :  0.5356568429099613\n",
      "cost after  30000 iteration is :  0.4938592284885265\n",
      "cost after  40000 iteration is :  0.46405863231610994\n",
      "cost after  50000 iteration is :  0.4421317924099467\n",
      "cost after  60000 iteration is :  0.4255438560476772\n",
      "cost after  70000 iteration is :  0.4126849505191403\n",
      "cost after  80000 iteration is :  0.4025023311764854\n",
      "cost after  90000 iteration is :  0.39428794702341696\n"
     ]
    },
    {
     "data": {
      "image/png": "[encoded data removed]",
      "text/plain": [
       "<Figure size 432x288 with 1 Axes>"
      ]
     },
     "metadata": {
      "needs_background": "light"
     },
     "output_type": "display_data"
    },
    {
     "name": "stdout",
     "output_type": "stream",
     "text": [
      "Test Accuracy:  87.5 %\n",
      "-------------------------------------------------------------------------------------\n",
      "learning rate is:  0.0005\n",
      "cost after  0 iteration is :  0.6931471805599453\n",
      "cost after  10000 iteration is :  0.44212853429759646\n",
      "cost after  20000 iteration is :  0.3875512552234702\n",
      "cost after  30000 iteration is :  0.3667560566987437\n",
      "cost after  40000 iteration is :  0.3562767305297351\n",
      "cost after  50000 iteration is :  0.35006127854121505\n",
      "cost after  60000 iteration is :  0.34596995227066185\n",
      "cost after  70000 iteration is :  0.34307981311431845\n",
      "cost after  80000 iteration is :  0.34093323273369086\n",
      "cost after  90000 iteration is :  0.3392783602259203\n"
     ]
    },
    {
     "data": {
      "image/png": "[encoded data removed]",
      "text/plain": [
       "<Figure size 432x288 with 1 Axes>"
      ]
     },
     "metadata": {
      "needs_background": "light"
     },
     "output_type": "display_data"
    },
    {
     "name": "stdout",
     "output_type": "stream",
     "text": [
      "Test Accuracy:  86.413 %\n",
      "-------------------------------------------------------------------------------------\n",
      "learning rate is:  0.001\n",
      "cost after  0 iteration is :  0.6931471805599453\n",
      "cost after  10000 iteration is :  0.3875491983651147\n",
      "cost after  20000 iteration is :  0.3562760533907562\n",
      "cost after  30000 iteration is :  0.3459696431583429\n",
      "cost after  40000 iteration is :  0.34093306108764126\n",
      "cost after  50000 iteration is :  0.33796486422335054\n",
      "cost after  60000 iteration is :  0.3360126703768934\n",
      "cost after  70000 iteration is :  0.3346262338646822\n",
      "cost after  80000 iteration is :  0.3335805063737651\n",
      "cost after  90000 iteration is :  0.33275176739660434\n"
     ]
    },
    {
     "data": {
      "image/png": "[encoded data removed]",
      "text/plain": [
       "<Figure size 432x288 with 1 Axes>"
      ]
     },
     "metadata": {
      "needs_background": "light"
     },
     "output_type": "display_data"
    },
    {
     "name": "stdout",
     "output_type": "stream",
     "text": [
      "Test Accuracy:  86.413 %\n",
      "-------------------------------------------------------------------------------------\n",
      "learning rate is:  0.01\n",
      "cost after  0 iteration is :  0.6931471805599453\n",
      "cost after  10000 iteration is :  0.3320672872588925\n",
      "cost after  20000 iteration is :  0.32814252831666657\n",
      "cost after  30000 iteration is :  0.3259706838390492\n",
      "cost after  40000 iteration is :  0.32453457088927223\n",
      "cost after  50000 iteration is :  0.32353503073185086\n",
      "cost after  60000 iteration is :  0.3228145635088528\n",
      "cost after  70000 iteration is :  0.3222813727080665\n",
      "cost after  80000 iteration is :  0.32187876071669613\n",
      "cost after  90000 iteration is :  0.32156998815818727\n"
     ]
    },
    {
     "data": {
      "image/png": "[encoded data removed]",
      "text/plain": [
       "<Figure size 432x288 with 1 Axes>"
      ]
     },
     "metadata": {
      "needs_background": "light"
     },
     "output_type": "display_data"
    },
    {
     "name": "stdout",
     "output_type": "stream",
     "text": [
      "Test Accuracy:  85.87 %\n",
      "-------------------------------------------------------------------------------------\n",
      "Average Accuracy is:  86.54891304347827\n"
     ]
    }
   ],
   "source": [
    "learning_rates = [0.0001, 0.0005, 0.001, 0.01] \n",
    "Y_pred_cv5 = {}\n",
    "accuracy5 = []\n",
    "for i in learning_rates:\n",
    "    print (\"learning rate is: \",i)\n",
    "    Y_pred_cv5[i], acc5 = logistic_model(train_val5_X, train_val5_Y, test_val5_X, test_val5_Y, learning_rate = i, iterations = 100000)\n",
    "    accuracy5.append(acc5)\n",
    "    print(\"-------------------------------------------------------------------------------------\")\n",
    "    \n",
    "print(\"Average Accuracy is: \", np.mean(accuracy5))"
   ]
  },
  {
   "cell_type": "code",
   "execution_count": 59,
   "id": "22c9438b",
   "metadata": {},
   "outputs": [
    {
     "data": {
      "text/plain": [
       "[87.5, 86.41304347826087, 86.41304347826087, 85.86956521739131]"
      ]
     },
     "execution_count": 59,
     "metadata": {},
     "output_type": "execute_result"
    }
   ],
   "source": [
    "accuracy5"
   ]
  },
  {
   "cell_type": "code",
   "execution_count": 60,
   "id": "65cc7583",
   "metadata": {},
   "outputs": [
    {
     "data": {
      "text/plain": [
       "86.08562009978617"
      ]
     },
     "execution_count": 60,
     "metadata": {},
     "output_type": "execute_result"
    }
   ],
   "source": [
    "Average_accuracy = accuracy1+accuracy2+accuracy3+accuracy4+accuracy5\n",
    "np.mean(Average_accuracy) "
   ]
  },
  {
   "cell_type": "code",
   "execution_count": null,
   "id": "0df27395",
   "metadata": {},
   "outputs": [],
   "source": []
  },
  {
   "cell_type": "markdown",
   "id": "9cbcef0a",
   "metadata": {},
   "source": [
    "#### Testing Different Iteration rates"
   ]
  },
  {
   "cell_type": "code",
   "execution_count": 61,
   "id": "483e459c",
   "metadata": {
    "scrolled": true
   },
   "outputs": [
    {
     "name": "stdout",
     "output_type": "stream",
     "text": [
      "iteration_number is:  50000\n",
      "cost after  0 iteration is :  0.6931471805599453\n",
      "cost after  5000 iteration is :  0.5085032724636417\n",
      "cost after  10000 iteration is :  0.4367658316137425\n",
      "cost after  15000 iteration is :  0.4014065799477086\n",
      "cost after  20000 iteration is :  0.38134686642893656\n",
      "cost after  25000 iteration is :  0.36876849937195555\n",
      "cost after  30000 iteration is :  0.3602824890723196\n",
      "cost after  35000 iteration is :  0.35423073997962473\n",
      "cost after  40000 iteration is :  0.3497235095007955\n",
      "cost after  45000 iteration is :  0.34624781922524245\n"
     ]
    },
    {
     "data": {
      "image/png": "[encoded data removed]",
      "text/plain": [
       "<Figure size 432x288 with 1 Axes>"
      ]
     },
     "metadata": {
      "needs_background": "light"
     },
     "output_type": "display_data"
    },
    {
     "name": "stdout",
     "output_type": "stream",
     "text": [
      "Test Accuracy:  84.699 %\n",
      "-------------------------------------------------------------------------------------\n",
      "iteration_number is:  100000\n",
      "cost after  0 iteration is :  0.6931471805599453\n",
      "cost after  10000 iteration is :  0.4367658316137425\n",
      "cost after  20000 iteration is :  0.38134686642893656\n",
      "cost after  30000 iteration is :  0.3602824890723196\n",
      "cost after  40000 iteration is :  0.3497235095007955\n",
      "cost after  50000 iteration is :  0.34349048661621906\n",
      "cost after  60000 iteration is :  0.3393964903794951\n",
      "cost after  70000 iteration is :  0.33650122666259\n",
      "cost after  80000 iteration is :  0.3343417887423662\n",
      "cost after  90000 iteration is :  0.33266598191695673\n"
     ]
    },
    {
     "data": {
      "image/png": "[encoded data removed]",
      "text/plain": [
       "<Figure size 432x288 with 1 Axes>"
      ]
     },
     "metadata": {
      "needs_background": "light"
     },
     "output_type": "display_data"
    },
    {
     "name": "stdout",
     "output_type": "stream",
     "text": [
      "Test Accuracy:  85.792 %\n",
      "-------------------------------------------------------------------------------------\n",
      "iteration_number is:  300000\n",
      "cost after  0 iteration is :  0.6931471805599453\n",
      "cost after  30000 iteration is :  0.3602824890723196\n",
      "cost after  60000 iteration is :  0.3393964903794951\n",
      "cost after  90000 iteration is :  0.33266598191695673\n",
      "cost after  120000 iteration is :  0.32930598723979837\n",
      "cost after  150000 iteration is :  0.3272571425461967\n",
      "cost after  180000 iteration is :  0.3258464344670576\n",
      "cost after  210000 iteration is :  0.3247891975129182\n",
      "cost after  240000 iteration is :  0.32394673399858326\n",
      "cost after  270000 iteration is :  0.32324501168864966\n"
     ]
    },
    {
     "data": {
      "image/png": "[encoded data removed]",
      "text/plain": [
       "<Figure size 432x288 with 1 Axes>"
      ]
     },
     "metadata": {
      "needs_background": "light"
     },
     "output_type": "display_data"
    },
    {
     "name": "stdout",
     "output_type": "stream",
     "text": [
      "Test Accuracy:  85.792 %\n",
      "-------------------------------------------------------------------------------------\n",
      "Average Accuracy is:  85.42805100182149\n"
     ]
    }
   ],
   "source": [
    "iteration_number = [50000, 100000, 300000]  \n",
    "Y_pred_cv_1 = {}\n",
    "accuracy_in1 = []\n",
    "\n",
    "for i in iteration_number:\n",
    "    print (\"iteration_number is: \",i)\n",
    "    Y_pred_cv_1[i], acc_in1 = logistic_model(train_val1_X, train_val1_Y, test_val1_X, test_val1_Y, learning_rate = 0.0005, iterations = i)\n",
    "    accuracy_in1.append(acc_in1)\n",
    "    print(\"-------------------------------------------------------------------------------------\")\n",
    "    \n",
    "print(\"Average Accuracy is: \", np.mean(accuracy_in1))"
   ]
  },
  {
   "cell_type": "code",
   "execution_count": 62,
   "id": "c3d06a31",
   "metadata": {
    "scrolled": true
   },
   "outputs": [
    {
     "name": "stdout",
     "output_type": "stream",
     "text": [
      "iteration_number is:  50000\n",
      "cost after  0 iteration is :  0.6931471805599453\n",
      "cost after  5000 iteration is :  0.5143652852489782\n",
      "cost after  10000 iteration is :  0.4451902490222102\n",
      "cost after  15000 iteration is :  0.41171939227014104\n",
      "cost after  20000 iteration is :  0.39302691779815646\n",
      "cost after  25000 iteration is :  0.3814543693333028\n",
      "cost after  30000 iteration is :  0.37372255759680634\n",
      "cost after  35000 iteration is :  0.36824624729827465\n",
      "cost after  40000 iteration is :  0.3641848848086114\n",
      "cost after  45000 iteration is :  0.3610595494714708\n"
     ]
    },
    {
     "data": {
      "image/png": "[encoded data removed]",
      "text/plain": [
       "<Figure size 432x288 with 1 Axes>"
      ]
     },
     "metadata": {
      "needs_background": "light"
     },
     "output_type": "display_data"
    },
    {
     "name": "stdout",
     "output_type": "stream",
     "text": [
      "Test Accuracy:  89.071 %\n",
      "-------------------------------------------------------------------------------------\n",
      "iteration_number is:  100000\n",
      "cost after  0 iteration is :  0.6931471805599453\n",
      "cost after  10000 iteration is :  0.4451902490222102\n",
      "cost after  20000 iteration is :  0.39302691779815646\n",
      "cost after  30000 iteration is :  0.37372255759680634\n",
      "cost after  40000 iteration is :  0.3641848848086114\n",
      "cost after  50000 iteration is :  0.35858120904357255\n",
      "cost after  60000 iteration is :  0.35489639830808883\n",
      "cost after  70000 iteration is :  0.3522822073264733\n",
      "cost after  80000 iteration is :  0.35032766731404985\n",
      "cost after  90000 iteration is :  0.3488108310270993\n"
     ]
    },
    {
     "data": {
      "image/png": "[encoded data removed]",
      "text/plain": [
       "<Figure size 432x288 with 1 Axes>"
      ]
     },
     "metadata": {
      "needs_background": "light"
     },
     "output_type": "display_data"
    },
    {
     "name": "stdout",
     "output_type": "stream",
     "text": [
      "Test Accuracy:  89.617 %\n",
      "-------------------------------------------------------------------------------------\n",
      "iteration_number is:  300000\n",
      "cost after  0 iteration is :  0.6931471805599453\n",
      "cost after  30000 iteration is :  0.37372255759680634\n",
      "cost after  60000 iteration is :  0.35489639830808883\n",
      "cost after  90000 iteration is :  0.3488108310270993\n",
      "cost after  120000 iteration is :  0.3457984368354312\n",
      "cost after  150000 iteration is :  0.3440246258588364\n",
      "cost after  180000 iteration is :  0.34286345353985975\n",
      "cost after  210000 iteration is :  0.3420386805331268\n",
      "cost after  240000 iteration is :  0.3414123371054707\n",
      "cost after  270000 iteration is :  0.3409102443803418\n"
     ]
    },
    {
     "data": {
      "image/png": "[encoded data removed]",
      "text/plain": [
       "<Figure size 432x288 with 1 Axes>"
      ]
     },
     "metadata": {
      "needs_background": "light"
     },
     "output_type": "display_data"
    },
    {
     "name": "stdout",
     "output_type": "stream",
     "text": [
      "Test Accuracy:  88.525 %\n",
      "-------------------------------------------------------------------------------------\n",
      "Average Accuracy is:  89.07103825136612\n"
     ]
    }
   ],
   "source": [
    "iteration_number = [50000, 100000, 300000] \n",
    "Y_pred_cv_2 = {}\n",
    "accuracy_in2 = []\n",
    "\n",
    "for i in iteration_number:\n",
    "    print (\"iteration_number is: \",i)\n",
    "    Y_pred_cv_2[i], acc_in2 = logistic_model(train_val2_X, train_val2_Y, test_val2_X, test_val2_Y, learning_rate = 0.0005, iterations = i)\n",
    "    accuracy_in2.append(acc_in2)\n",
    "    print(\"-------------------------------------------------------------------------------------\")\n",
    "    \n",
    "print(\"Average Accuracy is: \", np.mean(accuracy_in2))"
   ]
  },
  {
   "cell_type": "code",
   "execution_count": 63,
   "id": "5732077b",
   "metadata": {
    "scrolled": true
   },
   "outputs": [
    {
     "name": "stdout",
     "output_type": "stream",
     "text": [
      "iteration_number is:  50000\n",
      "cost after  0 iteration is :  0.6931471805599453\n",
      "cost after  5000 iteration is :  0.5052340094875577\n",
      "cost after  10000 iteration is :  0.4325329126934576\n",
      "cost after  15000 iteration is :  0.39647711298987054\n",
      "cost after  20000 iteration is :  0.3759229093935751\n",
      "cost after  25000 iteration is :  0.36298550372633287\n",
      "cost after  30000 iteration is :  0.35423227075103214\n",
      "cost after  35000 iteration is :  0.34797751747596983\n",
      "cost after  40000 iteration is :  0.3433136009218215\n",
      "cost after  45000 iteration is :  0.33971552224766116\n"
     ]
    },
    {
     "data": {
      "image/png": "[encoded data removed]",
      "text/plain": [
       "<Figure size 432x288 with 1 Axes>"
      ]
     },
     "metadata": {
      "needs_background": "light"
     },
     "output_type": "display_data"
    },
    {
     "name": "stdout",
     "output_type": "stream",
     "text": [
      "Test Accuracy:  86.957 %\n",
      "-------------------------------------------------------------------------------------\n",
      "iteration_number is:  100000\n",
      "cost after  0 iteration is :  0.6931471805599453\n",
      "cost after  10000 iteration is :  0.4325329126934576\n",
      "cost after  20000 iteration is :  0.3759229093935751\n",
      "cost after  30000 iteration is :  0.35423227075103214\n",
      "cost after  40000 iteration is :  0.3433136009218215\n",
      "cost after  50000 iteration is :  0.33686175514695693\n",
      "cost after  60000 iteration is :  0.3326304965123082\n",
      "cost after  70000 iteration is :  0.3296481752870197\n",
      "cost after  80000 iteration is :  0.3274338799193293\n",
      "cost after  90000 iteration is :  0.3257244524469865\n"
     ]
    },
    {
     "data": {
      "image/png": "[encoded data removed]",
      "text/plain": [
       "<Figure size 432x288 with 1 Axes>"
      ]
     },
     "metadata": {
      "needs_background": "light"
     },
     "output_type": "display_data"
    },
    {
     "name": "stdout",
     "output_type": "stream",
     "text": [
      "Test Accuracy:  85.87 %\n",
      "-------------------------------------------------------------------------------------\n",
      "iteration_number is:  300000\n",
      "cost after  0 iteration is :  0.6931471805599453\n",
      "cost after  30000 iteration is :  0.35423227075103214\n",
      "cost after  60000 iteration is :  0.3326304965123082\n",
      "cost after  90000 iteration is :  0.3257244524469865\n",
      "cost after  120000 iteration is :  0.32233252038405646\n",
      "cost after  150000 iteration is :  0.3202971468882015\n",
      "cost after  180000 iteration is :  0.318914979368272\n",
      "cost after  210000 iteration is :  0.3178916121192635\n",
      "cost after  240000 iteration is :  0.3170854599625575\n",
      "cost after  270000 iteration is :  0.3164217830418866\n"
     ]
    },
    {
     "data": {
      "image/png": "[encoded data removed]",
      "text/plain": [
       "<Figure size 432x288 with 1 Axes>"
      ]
     },
     "metadata": {
      "needs_background": "light"
     },
     "output_type": "display_data"
    },
    {
     "name": "stdout",
     "output_type": "stream",
     "text": [
      "Test Accuracy:  84.783 %\n",
      "-------------------------------------------------------------------------------------\n",
      "Average Accuracy is:  85.86956521739131\n"
     ]
    }
   ],
   "source": [
    "iteration_number = [50000, 100000, 300000] \n",
    "Y_pred_cv_3 = {}\n",
    "accuracy_in3 = []\n",
    "\n",
    "for i in iteration_number:\n",
    "    print (\"iteration_number is: \",i)\n",
    "    Y_pred_cv_3[i], acc_in3 = logistic_model(train_val3_X, train_val3_Y, test_val3_X, test_val3_Y, learning_rate = 0.0005, iterations = i)\n",
    "    accuracy_in3.append(acc_in3)\n",
    "    print(\"-------------------------------------------------------------------------------------\")\n",
    "    \n",
    "print(\"Average Accuracy is: \", np.mean(accuracy_in3))"
   ]
  },
  {
   "cell_type": "code",
   "execution_count": 64,
   "id": "a21e7e17",
   "metadata": {
    "scrolled": true
   },
   "outputs": [
    {
     "name": "stdout",
     "output_type": "stream",
     "text": [
      "iteration_number is:  50000\n",
      "cost after  0 iteration is :  0.6931471805599453\n",
      "cost after  5000 iteration is :  0.5138014725470939\n",
      "cost after  10000 iteration is :  0.4435682338959823\n",
      "cost after  15000 iteration is :  0.40908651352979125\n",
      "cost after  20000 iteration is :  0.38961849493555917\n",
      "cost after  25000 iteration is :  0.37747649130585875\n",
      "cost after  30000 iteration is :  0.36933019852414933\n",
      "cost after  35000 iteration is :  0.3635520134199549\n",
      "cost after  40000 iteration is :  0.35927002488905163\n",
      "cost after  45000 iteration is :  0.35598268838843966\n"
     ]
    },
    {
     "data": {
      "image/png": "[encoded data removed]",
      "text/plain": [
       "<Figure size 432x288 with 1 Axes>"
      ]
     },
     "metadata": {
      "needs_background": "light"
     },
     "output_type": "display_data"
    },
    {
     "name": "stdout",
     "output_type": "stream",
     "text": [
      "Test Accuracy:  83.696 %\n",
      "-------------------------------------------------------------------------------------\n",
      "iteration_number is:  100000\n",
      "cost after  0 iteration is :  0.6931471805599453\n",
      "cost after  10000 iteration is :  0.4435682338959823\n",
      "cost after  20000 iteration is :  0.38961849493555917\n",
      "cost after  30000 iteration is :  0.36933019852414933\n",
      "cost after  40000 iteration is :  0.35927002488905163\n",
      "cost after  50000 iteration is :  0.35338468189117844\n",
      "cost after  60000 iteration is :  0.3495435969725502\n",
      "cost after  70000 iteration is :  0.3468374860726042\n",
      "cost after  80000 iteration is :  0.3448224381158366\n",
      "cost after  90000 iteration is :  0.34325858293574824\n"
     ]
    },
    {
     "data": {
      "image/png": "[encoded data removed]",
      "text/plain": [
       "<Figure size 432x288 with 1 Axes>"
      ]
     },
     "metadata": {
      "needs_background": "light"
     },
     "output_type": "display_data"
    },
    {
     "name": "stdout",
     "output_type": "stream",
     "text": [
      "Test Accuracy:  85.326 %\n",
      "-------------------------------------------------------------------------------------\n",
      "iteration_number is:  300000\n",
      "cost after  0 iteration is :  0.6931471805599453\n",
      "cost after  30000 iteration is :  0.36933019852414933\n",
      "cost after  60000 iteration is :  0.3495435969725502\n",
      "cost after  90000 iteration is :  0.34325858293574824\n",
      "cost after  120000 iteration is :  0.34011070856064723\n",
      "cost after  150000 iteration is :  0.3381661928007464\n",
      "cost after  180000 iteration is :  0.3368013784549356\n",
      "cost after  210000 iteration is :  0.335755853477616\n",
      "cost after  240000 iteration is :  0.33490488546649944\n",
      "cost after  270000 iteration is :  0.3341831166617142\n"
     ]
    },
    {
     "data": {
      "image/png": "[encoded data removed]",
      "text/plain": [
       "<Figure size 432x288 with 1 Axes>"
      ]
     },
     "metadata": {
      "needs_background": "light"
     },
     "output_type": "display_data"
    },
    {
     "name": "stdout",
     "output_type": "stream",
     "text": [
      "Test Accuracy:  85.326 %\n",
      "-------------------------------------------------------------------------------------\n",
      "Average Accuracy is:  84.78260869565217\n"
     ]
    }
   ],
   "source": [
    "iteration_number = [50000, 100000, 300000] \n",
    "Y_pred_cv_4 = {}\n",
    "accuracy_in4 = []\n",
    "\n",
    "for i in iteration_number:\n",
    "    print (\"iteration_number is: \",i)\n",
    "    Y_pred_cv_4[i], acc_in4 = logistic_model(train_val4_X, train_val4_Y, test_val4_X, test_val4_Y, learning_rate = 0.0005, iterations = i)\n",
    "    accuracy_in4.append(acc_in4)\n",
    "    print(\"-------------------------------------------------------------------------------------\")\n",
    "    \n",
    "print(\"Average Accuracy is: \", np.mean(accuracy_in4))"
   ]
  },
  {
   "cell_type": "code",
   "execution_count": 65,
   "id": "4a1a905e",
   "metadata": {
    "scrolled": true
   },
   "outputs": [
    {
     "name": "stdout",
     "output_type": "stream",
     "text": [
      "iteration_number is:  50000\n",
      "cost after  0 iteration is :  0.6931471805599453\n",
      "cost after  5000 iteration is :  0.5129056669794684\n",
      "cost after  10000 iteration is :  0.44212853429759646\n",
      "cost after  15000 iteration is :  0.40730734236095273\n",
      "cost after  20000 iteration is :  0.3875512552234702\n",
      "cost after  25000 iteration is :  0.37514526813849347\n",
      "cost after  30000 iteration is :  0.3667560566987437\n",
      "cost after  35000 iteration is :  0.3607569577115074\n",
      "cost after  40000 iteration is :  0.3562767305297351\n",
      "cost after  45000 iteration is :  0.3528136019071463\n"
     ]
    },
    {
     "data": {
      "image/png": "[encoded data removed]",
      "text/plain": [
       "<Figure size 432x288 with 1 Axes>"
      ]
     },
     "metadata": {
      "needs_background": "light"
     },
     "output_type": "display_data"
    },
    {
     "name": "stdout",
     "output_type": "stream",
     "text": [
      "Test Accuracy:  86.957 %\n",
      "-------------------------------------------------------------------------------------\n",
      "iteration_number is:  100000\n",
      "cost after  0 iteration is :  0.6931471805599453\n",
      "cost after  10000 iteration is :  0.44212853429759646\n",
      "cost after  20000 iteration is :  0.3875512552234702\n",
      "cost after  30000 iteration is :  0.3667560566987437\n",
      "cost after  40000 iteration is :  0.3562767305297351\n",
      "cost after  50000 iteration is :  0.35006127854121505\n",
      "cost after  60000 iteration is :  0.34596995227066185\n",
      "cost after  70000 iteration is :  0.34307981311431845\n",
      "cost after  80000 iteration is :  0.34093323273369086\n",
      "cost after  90000 iteration is :  0.3392783602259203\n"
     ]
    },
    {
     "data": {
      "image/png": "[encoded data removed]",
      "text/plain": [
       "<Figure size 432x288 with 1 Axes>"
      ]
     },
     "metadata": {
      "needs_background": "light"
     },
     "output_type": "display_data"
    },
    {
     "name": "stdout",
     "output_type": "stream",
     "text": [
      "Test Accuracy:  86.413 %\n",
      "-------------------------------------------------------------------------------------\n",
      "iteration_number is:  300000\n",
      "cost after  0 iteration is :  0.6931471805599453\n",
      "cost after  30000 iteration is :  0.3667560566987437\n",
      "cost after  60000 iteration is :  0.34596995227066185\n",
      "cost after  90000 iteration is :  0.3392783602259203\n",
      "cost after  120000 iteration is :  0.33601274105265433\n",
      "cost after  150000 iteration is :  0.3340701532380548\n",
      "cost after  180000 iteration is :  0.33275179295423907\n",
      "cost after  210000 iteration is :  0.33176524606427404\n",
      "cost after  240000 iteration is :  0.3309723150582931\n",
      "cost after  270000 iteration is :  0.3303022349194601\n"
     ]
    },
    {
     "data": {
      "image/png": "[encoded data removed]",
      "text/plain": [
       "<Figure size 432x288 with 1 Axes>"
      ]
     },
     "metadata": {
      "needs_background": "light"
     },
     "output_type": "display_data"
    },
    {
     "name": "stdout",
     "output_type": "stream",
     "text": [
      "Test Accuracy:  86.413 %\n",
      "-------------------------------------------------------------------------------------\n",
      "Average Accuracy is:  86.59420289855073\n"
     ]
    }
   ],
   "source": [
    "iteration_number = [50000, 100000, 300000] \n",
    "Y_pred_cv_5 = {}\n",
    "accuracy_in5 = []\n",
    "\n",
    "for i in iteration_number:\n",
    "    print (\"iteration_number is: \",i)\n",
    "    Y_pred_cv_5[i], acc_in5 = logistic_model(train_val5_X, train_val5_Y, test_val5_X, test_val5_Y, learning_rate = 0.0005, iterations = i)\n",
    "    accuracy_in5.append(acc_in5)\n",
    "    print(\"-------------------------------------------------------------------------------------\")\n",
    "    \n",
    "print(\"Average Accuracy is: \", np.mean(accuracy_in5))"
   ]
  },
  {
   "cell_type": "code",
   "execution_count": 66,
   "id": "cd0372da",
   "metadata": {},
   "outputs": [
    {
     "data": {
      "text/plain": [
       "86.34909321295636"
      ]
     },
     "execution_count": 66,
     "metadata": {},
     "output_type": "execute_result"
    }
   ],
   "source": [
    "Average_accuracy_in = accuracy_in1+accuracy_in2+accuracy_in3+accuracy_in4+accuracy_in5\n",
    "np.mean(Average_accuracy_in) "
   ]
  },
  {
   "cell_type": "markdown",
   "id": "5ee054f7",
   "metadata": {},
   "source": [
    "## 07. Conclusion\n",
    "\n",
    "The accuracy using the library function is 84.24%.\n",
    "\n",
    "The F1 score using the library function is 84%\n",
    "\n",
    "The accuracy using the library function and cross validation library is 86.714%\n",
    "\n",
    "______________________________________________________________________________________________________________\n",
    "\n",
    "\n",
    "The accuracy using the custom Logistic Regression Function is 85.33%\n",
    "\n",
    "The F1 score generated from the custom LR function is 86.96%\n",
    "\n",
    "The accuracy using the custom Logistic Regression Function and applying cross validation is 86.6%\n"
   ]
  },
  {
   "cell_type": "code",
   "execution_count": null,
   "id": "79da4fbf",
   "metadata": {},
   "outputs": [],
   "source": []
  }
 ],
 "metadata": {
  "kernelspec": {
   "display_name": "Python 3",
   "language": "python",
   "name": "python3"
  },
  "language_info": {
   "codemirror_mode": {
    "name": "ipython",
    "version": 3
   },
   "file_extension": ".py",
   "mimetype": "text/x-python",
   "name": "python",
   "nbconvert_exporter": "python",
   "pygments_lexer": "ipython3",
   "version": "3.8.8"
  }
 },
 "nbformat": 4,
 "nbformat_minor": 5
}
